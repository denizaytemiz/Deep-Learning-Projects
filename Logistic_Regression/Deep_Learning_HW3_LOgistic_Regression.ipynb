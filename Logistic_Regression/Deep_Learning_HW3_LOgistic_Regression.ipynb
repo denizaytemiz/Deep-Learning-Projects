{
  "nbformat": 4,
  "nbformat_minor": 0,
  "metadata": {
    "colab": {
      "provenance": []
    },
    "kernelspec": {
      "name": "python3",
      "display_name": "Python 3"
    },
    "language_info": {
      "name": "python"
    }
  },
  "cells": [
    {
      "cell_type": "code",
      "source": [
        "import numpy as np\n",
        "import matplotlib.pyplot as plt"
      ],
      "metadata": {
        "id": "ODSdTZUXqClC"
      },
      "execution_count": 176,
      "outputs": []
    },
    {
      "cell_type": "markdown",
      "source": [
        "## Question 2: create dataset and test it with sklearn model"
      ],
      "metadata": {
        "id": "gBOyt2_AGY14"
      }
    },
    {
      "cell_type": "code",
      "source": [
        "#to sample a random vector X from a multivariate N- dim normal distribution with mean m and covariance matrix cov:\n",
        "mean1 = [0,0]\n",
        "cov = [[1, 0], [0, 1]]\n",
        "mean2= [0.5,4]\n",
        "class0 = np.random.multivariate_normal(mean = mean1, cov = cov, size = 200)\n",
        "class1 = np.random.multivariate_normal(mean = mean2, cov = cov, size = 200)"
      ],
      "metadata": {
        "id": "OUGTv1rosW9g"
      },
      "execution_count": 177,
      "outputs": []
    },
    {
      "cell_type": "code",
      "source": [
        "# plot the sampled points of these 2 classes\n",
        "plt.scatter(class0[:, 0], class0[:, 1], color='red', label='Label = 0')\n",
        "plt.scatter(class1[:, 0], class1[:, 1], color='blue', label='Label = 1')\n",
        "plt.xlabel('Feature 1')\n",
        "plt.ylabel('Feature 2')\n",
        "plt.legend()\n",
        "plt.show()"
      ],
      "metadata": {
        "colab": {
          "base_uri": "https://localhost:8080/",
          "height": 279
        },
        "id": "-CYjXXQjwntD",
        "outputId": "f3acb88c-96b3-4e10-e21d-4c8abea41020"
      },
      "execution_count": 178,
      "outputs": [
        {
          "output_type": "display_data",
          "data": {
            "text/plain": [
              "<Figure size 432x288 with 1 Axes>"
            ],
            "image/png": "[encoded data removed]"
          },
          "metadata": {
            "needs_background": "light"
          }
        }
      ]
    },
    {
      "cell_type": "code",
      "source": [
        "#feature_set has class1 samples added at the end of class0 samples \n",
        "#label 0 is the class of class0 samples which is a 0 array\n",
        "#label 1 is the class of class1 samples which is a 1 array\n",
        "#label_set is the both labels concatenated same as the feature arrays.\n",
        "feature_set = np.concatenate((class0,class1))\n",
        "label0 = np.zeros((len(class0),))\n",
        "label1 = np.ones((len(class1),))\n",
        "label_set = np.concatenate((label0,label1))"
      ],
      "metadata": {
        "id": "EAB8c99M2VUA"
      },
      "execution_count": 179,
      "outputs": []
    },
    {
      "cell_type": "code",
      "source": [
        "# random array of indexes of length feature set\n",
        "random_indexes = np.random.permutation(len(feature_set))\n",
        "\n",
        "# X is the feature set with random indexes, basically feature set is shuffled\n",
        "# Y is the label set with same indexes so corresponding labels of data's are correct\n",
        "\n",
        "X = feature_set[random_indexes]\n",
        "Y = label_set[random_indexes]\n",
        "\n",
        "#80% is training set and 20% is test set\n",
        "X_train,X_test = X[:320],X[320:]\n",
        "Y_train,Y_test = Y[:320],Y[320:]"
      ],
      "metadata": {
        "id": "vfTT3QMV6JCy"
      },
      "execution_count": 180,
      "outputs": []
    },
    {
      "cell_type": "code",
      "source": [
        "#train the logistic regression model\n",
        "from sklearn.linear_model import LogisticRegression \n",
        "from sklearn import metrics\n",
        "\n",
        "simulated_features = X_train\n",
        "simulated_labels = Y_train  \n",
        "clf = LogisticRegression(fit_intercept=True, C = 1e15) \n",
        "clf.fit(simulated_features, simulated_labels) \n",
        " \n",
        "print(clf.intercept_, clf.coef_) "
      ],
      "metadata": {
        "colab": {
          "base_uri": "https://localhost:8080/"
        },
        "id": "NvDEV9Zq0ebg",
        "outputId": "3ac4fcf6-12a5-4bdf-da83-997ccd0fd143"
      },
      "execution_count": 181,
      "outputs": [
        {
          "output_type": "stream",
          "name": "stdout",
          "text": [
            "[-8.602465] [[-0.533276  4.182721]]\n"
          ]
        }
      ]
    },
    {
      "cell_type": "code",
      "source": [
        "# the accuracy of the logistic regression\n",
        "y_pred = clf.predict(X_test)\n",
        "metrics.accuracy_score(Y_test, y_pred)"
      ],
      "metadata": {
        "colab": {
          "base_uri": "https://localhost:8080/"
        },
        "id": "HfjCYeWDGnLW",
        "outputId": "3d4b7458-239d-47be-d042-68a267f0f92a"
      },
      "execution_count": 182,
      "outputs": [
        {
          "output_type": "execute_result",
          "data": {
            "text/plain": [
              "0.9375"
            ]
          },
          "metadata": {},
          "execution_count": 182
        }
      ]
    },
    {
      "cell_type": "code",
      "source": [
        "X_train"
      ],
      "metadata": {
        "colab": {
          "base_uri": "https://localhost:8080/"
        },
        "id": "UpYp_5XpP2iJ",
        "outputId": "0f96a26b-f8b9-4be7-919a-c0a3258b7608"
      },
      "execution_count": 8,
      "outputs": [
        {
          "output_type": "execute_result",
          "data": {
            "text/plain": [
              "array([[ 4.50248259e-01,  3.98770259e+00],\n",
              "       [ 2.29046315e-01, -9.65798340e-01],\n",
              "       [ 6.24453694e-01,  5.52300184e+00],\n",
              "       [ 9.18657368e-01,  2.74528141e+00],\n",
              "       [-4.16829469e-02, -9.10852507e-02],\n",
              "       [ 1.28705186e-01, -5.33772176e-01],\n",
              "       [ 5.89132591e-01,  2.28468797e+00],\n",
              "       [ 9.61101676e-01, -8.20484380e-01],\n",
              "       [-3.00873567e-01, -9.26629082e-01],\n",
              "       [-1.88053922e+00,  2.94479337e+00],\n",
              "       [ 7.81610118e-01,  3.75887797e-01],\n",
              "       [-8.17654946e-01,  8.80988213e-01],\n",
              "       [ 1.07451609e+00,  4.31095017e+00],\n",
              "       [ 1.65638624e+00,  1.08606389e+00],\n",
              "       [ 8.43953791e-01,  2.74534537e-02],\n",
              "       [ 8.15341512e-01,  2.78161501e+00],\n",
              "       [-5.94625345e-01,  5.12732090e+00],\n",
              "       [ 8.31026136e-01,  3.77963619e+00],\n",
              "       [ 4.49103345e-01, -8.02731388e-01],\n",
              "       [ 5.76719508e-01,  1.22107154e+00],\n",
              "       [-3.30604238e-01, -9.78832858e-01],\n",
              "       [ 3.41102179e-01,  5.05584257e-01],\n",
              "       [ 1.38217344e+00, -4.78748159e-01],\n",
              "       [ 1.80999314e+00,  3.40790733e+00],\n",
              "       [ 7.50510018e-01,  3.14790410e+00],\n",
              "       [ 1.48949772e+00,  2.45374303e+00],\n",
              "       [-1.52185885e+00, -9.72024152e-02],\n",
              "       [ 2.11120473e+00,  3.68746174e+00],\n",
              "       [ 2.32835111e+00,  1.07674990e-01],\n",
              "       [ 1.74191108e+00,  3.21224400e+00],\n",
              "       [ 5.55293472e-01,  4.30016818e+00],\n",
              "       [ 1.39592302e-01, -3.58177630e-01],\n",
              "       [ 7.99205928e-01,  6.01078538e+00],\n",
              "       [ 5.58410821e-01, -1.18730450e-01],\n",
              "       [-2.86703561e-01,  6.10619411e+00],\n",
              "       [ 6.12815016e-01,  6.15211661e-01],\n",
              "       [ 7.79138882e-02,  4.85091511e+00],\n",
              "       [-1.76359037e+00, -8.53726267e-01],\n",
              "       [ 1.79715829e+00,  1.47899808e+00],\n",
              "       [-2.54859773e-01,  4.57252442e+00],\n",
              "       [ 1.28336628e+00,  2.96657504e-02],\n",
              "       [ 1.43831241e+00,  3.38514463e+00],\n",
              "       [ 6.69932877e-01, -5.95002297e-02],\n",
              "       [ 9.88391637e-01,  2.53527238e+00],\n",
              "       [ 7.63040310e-01, -1.16928807e-01],\n",
              "       [ 6.26353937e-01,  3.85661418e+00],\n",
              "       [ 1.23502526e+00,  5.18256488e+00],\n",
              "       [ 1.45134881e+00,  4.90208160e+00],\n",
              "       [ 1.77967834e+00,  5.14295115e+00],\n",
              "       [-3.80837835e-01, -1.23816968e-01],\n",
              "       [ 1.77655927e+00, -8.11808082e-01],\n",
              "       [ 7.71637434e-01,  4.13393532e+00],\n",
              "       [ 8.13254121e-01,  5.03188911e+00],\n",
              "       [-1.15388719e-02, -1.23482251e+00],\n",
              "       [ 2.58923017e-02, -7.89994861e-01],\n",
              "       [-5.03678529e-01,  3.07827352e+00],\n",
              "       [ 8.80562916e-01,  2.60987961e+00],\n",
              "       [-1.72859020e-01,  7.74798812e-01],\n",
              "       [ 7.00979813e-01,  3.43403726e+00],\n",
              "       [-2.36924205e-01, -3.23764308e-01],\n",
              "       [ 7.78953812e-01, -1.20052595e+00],\n",
              "       [ 5.53586420e-01, -6.34409791e-01],\n",
              "       [ 4.11969884e-01,  4.89904480e+00],\n",
              "       [ 2.10145263e+00,  3.53522266e+00],\n",
              "       [ 2.60490614e+00,  2.27287506e+00],\n",
              "       [-9.72063975e-01,  3.37278266e-01],\n",
              "       [-4.14185182e-01, -1.35131645e+00],\n",
              "       [ 1.94782931e+00,  4.18875935e+00],\n",
              "       [ 7.85202537e-01, -1.00376685e+00],\n",
              "       [-1.28672571e-01,  6.46781285e+00],\n",
              "       [-1.21315816e+00, -2.03285769e-01],\n",
              "       [-1.04935715e+00,  3.55705229e-01],\n",
              "       [ 1.24454542e+00,  3.85278855e+00],\n",
              "       [ 8.54779697e-01, -1.10779370e+00],\n",
              "       [ 2.83351662e+00,  5.08643914e+00],\n",
              "       [ 1.47234399e+00,  8.16898711e-01],\n",
              "       [-6.38207763e-01,  3.52231206e-01],\n",
              "       [-2.86453201e-01,  4.43064201e+00],\n",
              "       [-8.87128135e-01,  7.78012316e-01],\n",
              "       [ 7.89007944e-01,  6.47686709e+00],\n",
              "       [-6.08745469e-01, -2.92348506e-01],\n",
              "       [ 7.38903530e-01,  3.59369530e+00],\n",
              "       [ 3.77782808e-01,  3.82618118e+00],\n",
              "       [ 2.54958338e-01,  4.44466202e+00],\n",
              "       [ 1.24684889e+00, -6.64674169e-02],\n",
              "       [ 4.34387893e-01,  3.53208788e+00],\n",
              "       [ 1.03487675e+00,  3.81689669e+00],\n",
              "       [ 7.63037251e-02,  7.69526642e-01],\n",
              "       [ 2.43627739e-01,  4.49619783e+00],\n",
              "       [ 4.76603790e-01,  3.86970143e+00],\n",
              "       [ 1.33778618e+00,  1.09469761e+00],\n",
              "       [-3.98794730e-01, -5.09270881e-01],\n",
              "       [-3.60796118e-01,  1.69555783e+00],\n",
              "       [-5.70287356e-02,  8.57242267e-01],\n",
              "       [ 1.87293304e+00,  4.19589169e+00],\n",
              "       [-1.62436415e-01,  4.39794345e+00],\n",
              "       [ 1.25070782e+00, -5.52195553e-01],\n",
              "       [ 3.90174353e+00, -7.78314838e-01],\n",
              "       [ 3.41657452e-01, -1.24870467e+00],\n",
              "       [ 9.60502485e-01,  4.01545349e+00],\n",
              "       [-3.18739465e-01, -6.54539655e-02],\n",
              "       [ 1.21188665e+00,  2.69454393e+00],\n",
              "       [ 1.64867836e+00,  1.00452909e+00],\n",
              "       [-8.39461941e-03,  4.34809922e+00],\n",
              "       [ 1.41480671e-01,  3.51577984e+00],\n",
              "       [-3.59399555e-01,  4.48962054e+00],\n",
              "       [ 6.36617374e-01, -1.49042410e+00],\n",
              "       [ 1.63819175e+00,  4.77643204e+00],\n",
              "       [ 1.59286163e+00,  7.02502519e-01],\n",
              "       [ 6.23704568e-01, -7.69811471e-01],\n",
              "       [ 5.76965115e-01,  7.64996762e-01],\n",
              "       [ 8.88830996e-01,  3.44673332e+00],\n",
              "       [-5.19191567e-01, -1.28866171e+00],\n",
              "       [-6.17706227e-01, -1.61273333e+00],\n",
              "       [ 4.15326730e-03,  5.14831764e+00],\n",
              "       [-1.15449908e+00, -1.42920545e+00],\n",
              "       [ 2.64090523e-01, -7.54476295e-01],\n",
              "       [ 8.63174283e-01,  4.29065728e+00],\n",
              "       [ 1.40047314e+00,  3.84445893e+00],\n",
              "       [-1.25537614e+00, -4.54732300e-01],\n",
              "       [ 1.67580942e+00,  3.82361200e+00],\n",
              "       [ 7.47031335e-01,  1.57303265e-02],\n",
              "       [ 1.30677518e-01,  4.48893036e+00],\n",
              "       [-3.71328047e-01,  4.41716028e+00],\n",
              "       [ 1.91078712e-01, -3.71427739e-01],\n",
              "       [ 7.77672693e-01,  5.45974712e+00],\n",
              "       [ 7.44615561e-01,  3.79912816e+00],\n",
              "       [ 3.70565405e-01,  4.11685796e+00],\n",
              "       [ 6.54994947e-01, -1.57569654e+00],\n",
              "       [ 1.76520888e-01,  6.23543704e-03],\n",
              "       [ 6.43549235e-02, -8.29437975e-01],\n",
              "       [ 3.47205475e-01, -4.17461748e-02],\n",
              "       [-1.94037235e-01,  7.07073639e+00],\n",
              "       [ 1.74368939e+00,  5.03986665e+00],\n",
              "       [-1.72135442e+00,  3.53697113e+00],\n",
              "       [ 1.46911302e+00,  3.18118892e+00],\n",
              "       [ 3.72076962e-01,  4.11023577e+00],\n",
              "       [-1.74126407e+00,  4.62147001e-01],\n",
              "       [-1.22829496e+00,  8.73640556e-01],\n",
              "       [-1.78190497e+00, -7.42436787e-01],\n",
              "       [ 8.59691406e-01,  5.08259913e+00],\n",
              "       [-1.03688812e+00, -6.30669784e-01],\n",
              "       [-1.20264470e+00, -9.35354156e-01],\n",
              "       [ 1.59645180e+00,  3.29225019e+00],\n",
              "       [ 5.99999228e-02, -9.20886198e-01],\n",
              "       [ 1.56703811e+00,  2.92300951e+00],\n",
              "       [-1.64151166e-01, -4.79800661e-01],\n",
              "       [-2.35497324e-01,  3.08053056e-02],\n",
              "       [ 1.04648892e+00, -1.72708263e+00],\n",
              "       [ 1.75331052e-01,  2.81350189e+00],\n",
              "       [ 6.48534483e-01,  1.71146155e-01],\n",
              "       [-1.02592254e+00, -1.45188968e+00],\n",
              "       [ 6.42408295e-01,  7.51824468e-01],\n",
              "       [-2.34072666e-01,  3.72798354e+00],\n",
              "       [-9.31186681e-01, -6.94318509e-01],\n",
              "       [-3.32478318e-02,  4.27418046e+00],\n",
              "       [-1.54098933e+00,  3.64535033e+00],\n",
              "       [-3.30526239e-01,  4.18398163e+00],\n",
              "       [ 4.68580429e-01,  5.12143700e+00],\n",
              "       [ 7.42702285e-01,  3.73101569e+00],\n",
              "       [-1.18022045e+00,  7.79036732e-01],\n",
              "       [ 1.24397963e+00,  4.69230181e+00],\n",
              "       [ 2.55473559e-01,  2.26425840e+00],\n",
              "       [ 2.62850274e-01,  2.58261295e+00],\n",
              "       [ 1.48754083e+00,  5.75102720e+00],\n",
              "       [ 2.89067326e-01,  4.24581057e+00],\n",
              "       [-7.16433957e-01,  2.88710123e+00],\n",
              "       [ 5.30066559e-01, -5.89111795e-01],\n",
              "       [ 2.45098916e+00,  1.76536371e+00],\n",
              "       [ 1.83476676e+00,  2.78037354e+00],\n",
              "       [ 4.31047233e-01,  3.23956973e+00],\n",
              "       [ 2.32999909e+00,  3.85287454e+00],\n",
              "       [ 1.55654280e+00, -2.16784184e-01],\n",
              "       [ 1.84062895e-01, -3.70528847e-01],\n",
              "       [-1.59802740e+00,  3.39367548e+00],\n",
              "       [ 1.23010937e+00, -6.08033239e-01],\n",
              "       [ 4.55376601e-01, -3.04893091e-01],\n",
              "       [ 1.62178895e+00,  4.54879284e+00],\n",
              "       [-3.25820512e-02,  1.79958805e+00],\n",
              "       [ 1.42109842e+00, -3.28923825e-01],\n",
              "       [-2.20418707e-02,  1.38941895e+00],\n",
              "       [ 7.11464326e-01,  4.85150244e+00],\n",
              "       [-2.13267894e-02,  3.29746649e+00],\n",
              "       [-6.29711341e-02,  1.80407624e+00],\n",
              "       [ 9.02964907e-01, -7.72236320e-01],\n",
              "       [-4.39767459e-01,  6.12886045e-01],\n",
              "       [ 2.69308750e-01, -9.22928564e-01],\n",
              "       [ 1.84654562e-01,  2.02478428e+00],\n",
              "       [-1.00839617e-01,  3.68264999e+00],\n",
              "       [ 1.73337266e+00,  4.38332916e+00],\n",
              "       [ 1.32709679e+00,  8.08650078e-01],\n",
              "       [ 8.63450842e-01,  4.33042931e+00],\n",
              "       [-1.67379853e-01,  5.77681504e-01],\n",
              "       [-1.88068328e+00,  5.27578201e+00],\n",
              "       [ 1.39703784e+00,  5.64994508e+00],\n",
              "       [ 2.88157193e-01,  4.20760829e+00],\n",
              "       [ 4.32619124e-02,  8.76596882e-01],\n",
              "       [ 6.53262825e-02, -1.87975586e-01],\n",
              "       [ 1.02840477e+00,  2.76292095e+00],\n",
              "       [ 7.30037258e-01,  4.34544430e+00],\n",
              "       [ 1.86522352e+00,  6.00654478e-01],\n",
              "       [ 9.78828804e-01,  1.76192347e+00],\n",
              "       [ 1.25716415e+00, -1.40321978e+00],\n",
              "       [ 1.01307497e+00,  6.50001174e+00],\n",
              "       [ 5.65415755e-01,  9.25371605e-01],\n",
              "       [ 3.27737030e-01,  3.08462697e-01],\n",
              "       [ 3.93042956e-01, -5.12392565e-02],\n",
              "       [ 2.69353987e+00,  4.25541235e+00],\n",
              "       [-9.69487938e-01,  3.58347416e-01],\n",
              "       [ 8.40097569e-01,  4.01165203e+00],\n",
              "       [ 4.72074631e-02,  4.42127372e+00],\n",
              "       [ 2.00341700e+00,  2.71289472e+00],\n",
              "       [-8.50451031e-01,  5.61860943e-01],\n",
              "       [ 8.74936997e-01,  4.93692237e-01],\n",
              "       [-2.64174096e-01, -1.99848571e+00],\n",
              "       [-1.18633824e+00,  4.73120631e+00],\n",
              "       [ 6.12933330e-01, -7.73166104e-01],\n",
              "       [-1.99289525e-01, -5.03704201e-01],\n",
              "       [ 1.98829075e+00, -5.36990629e-01],\n",
              "       [ 1.15194774e+00,  2.76919803e+00],\n",
              "       [ 1.18292467e+00,  1.48023854e+00],\n",
              "       [ 2.98507621e-01,  4.62079070e+00],\n",
              "       [ 3.27241511e-01, -1.49823455e+00],\n",
              "       [-8.40660047e-03,  9.68917189e-01],\n",
              "       [ 1.34703203e+00, -5.79441722e-01],\n",
              "       [ 6.97960732e-02, -9.26955561e-01],\n",
              "       [-2.00169699e-01,  3.78776544e+00],\n",
              "       [-1.75019915e-01, -1.60635504e+00],\n",
              "       [-2.39545464e-03, -6.79695506e-01],\n",
              "       [-2.68261662e-02,  7.47504941e-01],\n",
              "       [ 1.03025629e+00,  4.03096012e+00],\n",
              "       [-5.85379508e-01,  3.47079610e+00],\n",
              "       [ 3.76190332e-01,  5.68554039e+00],\n",
              "       [ 1.43900212e+00,  1.65528505e+00],\n",
              "       [ 1.35495904e+00,  4.19930906e-01],\n",
              "       [-3.42424144e-01,  3.39364408e+00],\n",
              "       [-2.32500848e-01, -1.23164794e+00],\n",
              "       [-6.31253172e-01, -3.91933700e-01],\n",
              "       [ 6.95542536e-01,  1.06129091e+00],\n",
              "       [-3.78400199e-01,  6.89863121e-01],\n",
              "       [-5.20187859e-01,  4.65225305e+00],\n",
              "       [ 8.28988241e-01,  4.16602627e+00],\n",
              "       [ 4.56305066e-01, -5.95863660e-01],\n",
              "       [-8.43776208e-01,  4.80833356e+00],\n",
              "       [ 2.27591803e+00,  4.64391074e-01],\n",
              "       [ 1.43246365e+00,  3.68790800e+00],\n",
              "       [ 1.94723257e+00,  6.01988385e+00],\n",
              "       [ 4.75250053e-01,  4.30413422e+00],\n",
              "       [ 4.32212847e-02,  1.78718509e+00],\n",
              "       [ 1.88728157e+00,  3.04785856e+00],\n",
              "       [-5.39627038e-01,  3.64954679e+00],\n",
              "       [ 7.96808305e-01, -1.01168489e+00],\n",
              "       [ 2.33234705e-01,  4.52005303e+00],\n",
              "       [-7.42829031e-01,  5.30533810e+00],\n",
              "       [-4.65251358e-01, -9.64405681e-02],\n",
              "       [ 2.14104857e+00,  1.69364544e-01],\n",
              "       [ 1.82701391e+00,  4.60717194e+00],\n",
              "       [-3.50527653e-01,  4.85313125e+00],\n",
              "       [-4.31018858e-01, -1.97258734e-01],\n",
              "       [ 4.43975494e-01,  4.03667106e+00],\n",
              "       [ 1.01609283e+00,  3.00482025e+00],\n",
              "       [ 8.21674006e-01, -4.62039488e-01],\n",
              "       [ 3.02759819e+00,  4.57049693e+00],\n",
              "       [-6.01763229e-01, -3.88631897e-01],\n",
              "       [-7.89294524e-01,  2.96699862e+00],\n",
              "       [-6.38889147e-01,  2.09057571e+00],\n",
              "       [ 1.02352033e-02,  3.64223332e+00],\n",
              "       [ 4.75479056e-02,  1.48444500e+00],\n",
              "       [ 1.97172072e-01,  4.18306456e+00],\n",
              "       [-1.17513692e+00,  5.75846389e+00],\n",
              "       [ 2.91283240e+00,  1.14726578e-01],\n",
              "       [-2.22823819e+00,  1.08477802e+00],\n",
              "       [ 1.82831360e+00,  4.07674366e+00],\n",
              "       [-1.09255149e+00,  4.37501590e+00],\n",
              "       [ 4.51205462e-01, -1.69620700e+00],\n",
              "       [ 5.15080376e-01, -8.66065193e-02],\n",
              "       [ 4.21776578e-01,  4.44768596e+00],\n",
              "       [ 3.98475886e-01, -1.13511939e+00],\n",
              "       [-1.42326433e-01,  7.09164548e-01],\n",
              "       [ 7.96818543e-01,  4.06978012e+00],\n",
              "       [ 3.21628162e-01, -3.49036421e-01],\n",
              "       [-1.35003129e+00, -2.83454656e-01],\n",
              "       [-1.01052145e+00, -1.01192149e+00],\n",
              "       [ 1.87949341e-01, -7.22567168e-01],\n",
              "       [-2.70779462e-01, -1.25329506e+00],\n",
              "       [-1.65577996e+00,  8.12218782e-01],\n",
              "       [ 9.92609305e-01, -9.55624081e-02],\n",
              "       [ 5.51470490e-01,  4.82128808e+00],\n",
              "       [ 1.43977260e+00, -2.92301378e-01],\n",
              "       [ 8.89751245e-01,  4.62487530e+00],\n",
              "       [-4.94900592e-01, -2.76870026e-01],\n",
              "       [ 7.98144304e-01,  5.75667956e+00],\n",
              "       [-4.77836574e-01,  3.99427288e-01],\n",
              "       [ 2.87045672e-01,  8.52578607e-01],\n",
              "       [ 1.12392875e+00,  2.85919061e-01],\n",
              "       [-8.65369972e-01,  5.30064240e+00],\n",
              "       [ 9.27031747e-01, -6.79877115e-01],\n",
              "       [ 7.71761832e-01,  4.05458687e+00],\n",
              "       [ 8.94682184e-01,  3.12052919e+00],\n",
              "       [ 1.03450221e+00,  4.19378589e+00],\n",
              "       [ 1.55320913e+00,  3.67154805e+00],\n",
              "       [ 3.09442888e-01, -8.68859600e-01],\n",
              "       [ 7.10869669e-01,  3.02405355e+00],\n",
              "       [ 6.78687712e-01, -5.19147733e-01],\n",
              "       [ 6.43599073e-01,  2.82059652e-01],\n",
              "       [ 9.14956805e-01,  4.26785501e+00],\n",
              "       [-3.00194417e-01,  1.29022541e+00],\n",
              "       [-1.59985623e-01,  2.70391193e-01],\n",
              "       [ 8.20949284e-01,  4.18240668e+00],\n",
              "       [-8.24811993e-01,  2.24355706e-02],\n",
              "       [-1.24819889e+00, -8.99230346e-01],\n",
              "       [-6.75552997e-01, -9.71016553e-02],\n",
              "       [-4.49173294e-05,  3.55088443e+00],\n",
              "       [-5.47892327e-01, -6.33291933e-02],\n",
              "       [-4.55108922e-03,  1.62142512e+00],\n",
              "       [ 8.71034834e-01,  2.45961428e+00],\n",
              "       [ 1.39029100e+00,  4.06697442e+00],\n",
              "       [ 8.15996428e-01,  3.23686084e+00],\n",
              "       [ 9.94647105e-01,  3.95874410e-01],\n",
              "       [-3.73136075e-01,  5.82651099e+00]])"
            ]
          },
          "metadata": {},
          "execution_count": 8
        }
      ]
    },
    {
      "cell_type": "code",
      "source": [
        "np.set_printoptions(suppress=True, precision=6)\n",
        "X_train = X_train.astype(float)\n",
        "print(X_train)"
      ],
      "metadata": {
        "colab": {
          "base_uri": "https://localhost:8080/"
        },
        "id": "sMhFu-o9eI96",
        "outputId": "48ff9301-21a4-4656-94f9-02c04002ce7d"
      },
      "execution_count": 9,
      "outputs": [
        {
          "output_type": "stream",
          "name": "stdout",
          "text": [
            "[[ 0.450248  3.987703]\n",
            " [ 0.229046 -0.965798]\n",
            " [ 0.624454  5.523002]\n",
            " [ 0.918657  2.745281]\n",
            " [-0.041683 -0.091085]\n",
            " [ 0.128705 -0.533772]\n",
            " [ 0.589133  2.284688]\n",
            " [ 0.961102 -0.820484]\n",
            " [-0.300874 -0.926629]\n",
            " [-1.880539  2.944793]\n",
            " [ 0.78161   0.375888]\n",
            " [-0.817655  0.880988]\n",
            " [ 1.074516  4.31095 ]\n",
            " [ 1.656386  1.086064]\n",
            " [ 0.843954  0.027453]\n",
            " [ 0.815342  2.781615]\n",
            " [-0.594625  5.127321]\n",
            " [ 0.831026  3.779636]\n",
            " [ 0.449103 -0.802731]\n",
            " [ 0.57672   1.221072]\n",
            " [-0.330604 -0.978833]\n",
            " [ 0.341102  0.505584]\n",
            " [ 1.382173 -0.478748]\n",
            " [ 1.809993  3.407907]\n",
            " [ 0.75051   3.147904]\n",
            " [ 1.489498  2.453743]\n",
            " [-1.521859 -0.097202]\n",
            " [ 2.111205  3.687462]\n",
            " [ 2.328351  0.107675]\n",
            " [ 1.741911  3.212244]\n",
            " [ 0.555293  4.300168]\n",
            " [ 0.139592 -0.358178]\n",
            " [ 0.799206  6.010785]\n",
            " [ 0.558411 -0.11873 ]\n",
            " [-0.286704  6.106194]\n",
            " [ 0.612815  0.615212]\n",
            " [ 0.077914  4.850915]\n",
            " [-1.76359  -0.853726]\n",
            " [ 1.797158  1.478998]\n",
            " [-0.25486   4.572524]\n",
            " [ 1.283366  0.029666]\n",
            " [ 1.438312  3.385145]\n",
            " [ 0.669933 -0.0595  ]\n",
            " [ 0.988392  2.535272]\n",
            " [ 0.76304  -0.116929]\n",
            " [ 0.626354  3.856614]\n",
            " [ 1.235025  5.182565]\n",
            " [ 1.451349  4.902082]\n",
            " [ 1.779678  5.142951]\n",
            " [-0.380838 -0.123817]\n",
            " [ 1.776559 -0.811808]\n",
            " [ 0.771637  4.133935]\n",
            " [ 0.813254  5.031889]\n",
            " [-0.011539 -1.234823]\n",
            " [ 0.025892 -0.789995]\n",
            " [-0.503679  3.078274]\n",
            " [ 0.880563  2.60988 ]\n",
            " [-0.172859  0.774799]\n",
            " [ 0.70098   3.434037]\n",
            " [-0.236924 -0.323764]\n",
            " [ 0.778954 -1.200526]\n",
            " [ 0.553586 -0.63441 ]\n",
            " [ 0.41197   4.899045]\n",
            " [ 2.101453  3.535223]\n",
            " [ 2.604906  2.272875]\n",
            " [-0.972064  0.337278]\n",
            " [-0.414185 -1.351316]\n",
            " [ 1.947829  4.188759]\n",
            " [ 0.785203 -1.003767]\n",
            " [-0.128673  6.467813]\n",
            " [-1.213158 -0.203286]\n",
            " [-1.049357  0.355705]\n",
            " [ 1.244545  3.852789]\n",
            " [ 0.85478  -1.107794]\n",
            " [ 2.833517  5.086439]\n",
            " [ 1.472344  0.816899]\n",
            " [-0.638208  0.352231]\n",
            " [-0.286453  4.430642]\n",
            " [-0.887128  0.778012]\n",
            " [ 0.789008  6.476867]\n",
            " [-0.608745 -0.292349]\n",
            " [ 0.738904  3.593695]\n",
            " [ 0.377783  3.826181]\n",
            " [ 0.254958  4.444662]\n",
            " [ 1.246849 -0.066467]\n",
            " [ 0.434388  3.532088]\n",
            " [ 1.034877  3.816897]\n",
            " [ 0.076304  0.769527]\n",
            " [ 0.243628  4.496198]\n",
            " [ 0.476604  3.869701]\n",
            " [ 1.337786  1.094698]\n",
            " [-0.398795 -0.509271]\n",
            " [-0.360796  1.695558]\n",
            " [-0.057029  0.857242]\n",
            " [ 1.872933  4.195892]\n",
            " [-0.162436  4.397943]\n",
            " [ 1.250708 -0.552196]\n",
            " [ 3.901744 -0.778315]\n",
            " [ 0.341657 -1.248705]\n",
            " [ 0.960502  4.015453]\n",
            " [-0.318739 -0.065454]\n",
            " [ 1.211887  2.694544]\n",
            " [ 1.648678  1.004529]\n",
            " [-0.008395  4.348099]\n",
            " [ 0.141481  3.51578 ]\n",
            " [-0.3594    4.489621]\n",
            " [ 0.636617 -1.490424]\n",
            " [ 1.638192  4.776432]\n",
            " [ 1.592862  0.702503]\n",
            " [ 0.623705 -0.769811]\n",
            " [ 0.576965  0.764997]\n",
            " [ 0.888831  3.446733]\n",
            " [-0.519192 -1.288662]\n",
            " [-0.617706 -1.612733]\n",
            " [ 0.004153  5.148318]\n",
            " [-1.154499 -1.429205]\n",
            " [ 0.264091 -0.754476]\n",
            " [ 0.863174  4.290657]\n",
            " [ 1.400473  3.844459]\n",
            " [-1.255376 -0.454732]\n",
            " [ 1.675809  3.823612]\n",
            " [ 0.747031  0.01573 ]\n",
            " [ 0.130678  4.48893 ]\n",
            " [-0.371328  4.41716 ]\n",
            " [ 0.191079 -0.371428]\n",
            " [ 0.777673  5.459747]\n",
            " [ 0.744616  3.799128]\n",
            " [ 0.370565  4.116858]\n",
            " [ 0.654995 -1.575697]\n",
            " [ 0.176521  0.006235]\n",
            " [ 0.064355 -0.829438]\n",
            " [ 0.347205 -0.041746]\n",
            " [-0.194037  7.070736]\n",
            " [ 1.743689  5.039867]\n",
            " [-1.721354  3.536971]\n",
            " [ 1.469113  3.181189]\n",
            " [ 0.372077  4.110236]\n",
            " [-1.741264  0.462147]\n",
            " [-1.228295  0.873641]\n",
            " [-1.781905 -0.742437]\n",
            " [ 0.859691  5.082599]\n",
            " [-1.036888 -0.63067 ]\n",
            " [-1.202645 -0.935354]\n",
            " [ 1.596452  3.29225 ]\n",
            " [ 0.06     -0.920886]\n",
            " [ 1.567038  2.92301 ]\n",
            " [-0.164151 -0.479801]\n",
            " [-0.235497  0.030805]\n",
            " [ 1.046489 -1.727083]\n",
            " [ 0.175331  2.813502]\n",
            " [ 0.648534  0.171146]\n",
            " [-1.025923 -1.45189 ]\n",
            " [ 0.642408  0.751824]\n",
            " [-0.234073  3.727984]\n",
            " [-0.931187 -0.694319]\n",
            " [-0.033248  4.27418 ]\n",
            " [-1.540989  3.64535 ]\n",
            " [-0.330526  4.183982]\n",
            " [ 0.46858   5.121437]\n",
            " [ 0.742702  3.731016]\n",
            " [-1.18022   0.779037]\n",
            " [ 1.24398   4.692302]\n",
            " [ 0.255474  2.264258]\n",
            " [ 0.26285   2.582613]\n",
            " [ 1.487541  5.751027]\n",
            " [ 0.289067  4.245811]\n",
            " [-0.716434  2.887101]\n",
            " [ 0.530067 -0.589112]\n",
            " [ 2.450989  1.765364]\n",
            " [ 1.834767  2.780374]\n",
            " [ 0.431047  3.23957 ]\n",
            " [ 2.329999  3.852875]\n",
            " [ 1.556543 -0.216784]\n",
            " [ 0.184063 -0.370529]\n",
            " [-1.598027  3.393675]\n",
            " [ 1.230109 -0.608033]\n",
            " [ 0.455377 -0.304893]\n",
            " [ 1.621789  4.548793]\n",
            " [-0.032582  1.799588]\n",
            " [ 1.421098 -0.328924]\n",
            " [-0.022042  1.389419]\n",
            " [ 0.711464  4.851502]\n",
            " [-0.021327  3.297466]\n",
            " [-0.062971  1.804076]\n",
            " [ 0.902965 -0.772236]\n",
            " [-0.439767  0.612886]\n",
            " [ 0.269309 -0.922929]\n",
            " [ 0.184655  2.024784]\n",
            " [-0.10084   3.68265 ]\n",
            " [ 1.733373  4.383329]\n",
            " [ 1.327097  0.80865 ]\n",
            " [ 0.863451  4.330429]\n",
            " [-0.16738   0.577682]\n",
            " [-1.880683  5.275782]\n",
            " [ 1.397038  5.649945]\n",
            " [ 0.288157  4.207608]\n",
            " [ 0.043262  0.876597]\n",
            " [ 0.065326 -0.187976]\n",
            " [ 1.028405  2.762921]\n",
            " [ 0.730037  4.345444]\n",
            " [ 1.865224  0.600654]\n",
            " [ 0.978829  1.761923]\n",
            " [ 1.257164 -1.40322 ]\n",
            " [ 1.013075  6.500012]\n",
            " [ 0.565416  0.925372]\n",
            " [ 0.327737  0.308463]\n",
            " [ 0.393043 -0.051239]\n",
            " [ 2.69354   4.255412]\n",
            " [-0.969488  0.358347]\n",
            " [ 0.840098  4.011652]\n",
            " [ 0.047207  4.421274]\n",
            " [ 2.003417  2.712895]\n",
            " [-0.850451  0.561861]\n",
            " [ 0.874937  0.493692]\n",
            " [-0.264174 -1.998486]\n",
            " [-1.186338  4.731206]\n",
            " [ 0.612933 -0.773166]\n",
            " [-0.19929  -0.503704]\n",
            " [ 1.988291 -0.536991]\n",
            " [ 1.151948  2.769198]\n",
            " [ 1.182925  1.480239]\n",
            " [ 0.298508  4.620791]\n",
            " [ 0.327242 -1.498235]\n",
            " [-0.008407  0.968917]\n",
            " [ 1.347032 -0.579442]\n",
            " [ 0.069796 -0.926956]\n",
            " [-0.20017   3.787765]\n",
            " [-0.17502  -1.606355]\n",
            " [-0.002395 -0.679696]\n",
            " [-0.026826  0.747505]\n",
            " [ 1.030256  4.03096 ]\n",
            " [-0.58538   3.470796]\n",
            " [ 0.37619   5.68554 ]\n",
            " [ 1.439002  1.655285]\n",
            " [ 1.354959  0.419931]\n",
            " [-0.342424  3.393644]\n",
            " [-0.232501 -1.231648]\n",
            " [-0.631253 -0.391934]\n",
            " [ 0.695543  1.061291]\n",
            " [-0.3784    0.689863]\n",
            " [-0.520188  4.652253]\n",
            " [ 0.828988  4.166026]\n",
            " [ 0.456305 -0.595864]\n",
            " [-0.843776  4.808334]\n",
            " [ 2.275918  0.464391]\n",
            " [ 1.432464  3.687908]\n",
            " [ 1.947233  6.019884]\n",
            " [ 0.47525   4.304134]\n",
            " [ 0.043221  1.787185]\n",
            " [ 1.887282  3.047859]\n",
            " [-0.539627  3.649547]\n",
            " [ 0.796808 -1.011685]\n",
            " [ 0.233235  4.520053]\n",
            " [-0.742829  5.305338]\n",
            " [-0.465251 -0.096441]\n",
            " [ 2.141049  0.169365]\n",
            " [ 1.827014  4.607172]\n",
            " [-0.350528  4.853131]\n",
            " [-0.431019 -0.197259]\n",
            " [ 0.443975  4.036671]\n",
            " [ 1.016093  3.00482 ]\n",
            " [ 0.821674 -0.462039]\n",
            " [ 3.027598  4.570497]\n",
            " [-0.601763 -0.388632]\n",
            " [-0.789295  2.966999]\n",
            " [-0.638889  2.090576]\n",
            " [ 0.010235  3.642233]\n",
            " [ 0.047548  1.484445]\n",
            " [ 0.197172  4.183065]\n",
            " [-1.175137  5.758464]\n",
            " [ 2.912832  0.114727]\n",
            " [-2.228238  1.084778]\n",
            " [ 1.828314  4.076744]\n",
            " [-1.092551  4.375016]\n",
            " [ 0.451205 -1.696207]\n",
            " [ 0.51508  -0.086607]\n",
            " [ 0.421777  4.447686]\n",
            " [ 0.398476 -1.135119]\n",
            " [-0.142326  0.709165]\n",
            " [ 0.796819  4.06978 ]\n",
            " [ 0.321628 -0.349036]\n",
            " [-1.350031 -0.283455]\n",
            " [-1.010521 -1.011921]\n",
            " [ 0.187949 -0.722567]\n",
            " [-0.270779 -1.253295]\n",
            " [-1.65578   0.812219]\n",
            " [ 0.992609 -0.095562]\n",
            " [ 0.55147   4.821288]\n",
            " [ 1.439773 -0.292301]\n",
            " [ 0.889751  4.624875]\n",
            " [-0.494901 -0.27687 ]\n",
            " [ 0.798144  5.75668 ]\n",
            " [-0.477837  0.399427]\n",
            " [ 0.287046  0.852579]\n",
            " [ 1.123929  0.285919]\n",
            " [-0.86537   5.300642]\n",
            " [ 0.927032 -0.679877]\n",
            " [ 0.771762  4.054587]\n",
            " [ 0.894682  3.120529]\n",
            " [ 1.034502  4.193786]\n",
            " [ 1.553209  3.671548]\n",
            " [ 0.309443 -0.86886 ]\n",
            " [ 0.71087   3.024054]\n",
            " [ 0.678688 -0.519148]\n",
            " [ 0.643599  0.28206 ]\n",
            " [ 0.914957  4.267855]\n",
            " [-0.300194  1.290225]\n",
            " [-0.159986  0.270391]\n",
            " [ 0.820949  4.182407]\n",
            " [-0.824812  0.022436]\n",
            " [-1.248199 -0.89923 ]\n",
            " [-0.675553 -0.097102]\n",
            " [-0.000045  3.550884]\n",
            " [-0.547892 -0.063329]\n",
            " [-0.004551  1.621425]\n",
            " [ 0.871035  2.459614]\n",
            " [ 1.390291  4.066974]\n",
            " [ 0.815996  3.236861]\n",
            " [ 0.994647  0.395874]\n",
            " [-0.373136  5.826511]]\n"
          ]
        }
      ]
    },
    {
      "cell_type": "code",
      "source": [
        "Y_train\n"
      ],
      "metadata": {
        "colab": {
          "base_uri": "https://localhost:8080/"
        },
        "id": "vD-YkIQXQBUM",
        "outputId": "a4ba815c-04d1-4967-d2d7-244e0e82985f"
      },
      "execution_count": 10,
      "outputs": [
        {
          "output_type": "execute_result",
          "data": {
            "text/plain": [
              "array([1., 0., 1., 1., 0., 0., 0., 0., 0., 1., 0., 0., 1., 0., 0., 1., 1.,\n",
              "       1., 0., 0., 0., 0., 0., 1., 1., 1., 0., 1., 0., 1., 1., 0., 1., 0.,\n",
              "       1., 0., 1., 0., 0., 1., 0., 1., 0., 1., 0., 1., 1., 1., 1., 0., 0.,\n",
              "       1., 1., 0., 0., 1., 1., 0., 1., 0., 0., 0., 1., 1., 1., 0., 0., 1.,\n",
              "       0., 1., 0., 0., 1., 0., 1., 0., 0., 1., 0., 1., 0., 1., 1., 1., 0.,\n",
              "       1., 1., 0., 1., 1., 0., 0., 1., 0., 1., 1., 0., 0., 0., 1., 0., 1.,\n",
              "       0., 1., 1., 1., 0., 1., 0., 0., 0., 1., 0., 0., 1., 0., 0., 1., 1.,\n",
              "       0., 1., 0., 1., 1., 0., 1., 1., 1., 0., 0., 0., 0., 1., 1., 1., 1.,\n",
              "       1., 0., 0., 0., 1., 0., 0., 1., 0., 1., 0., 0., 0., 1., 0., 0., 0.,\n",
              "       1., 0., 1., 1., 1., 1., 1., 0., 1., 1., 1., 1., 1., 1., 0., 1., 1.,\n",
              "       1., 1., 0., 0., 1., 0., 0., 1., 1., 0., 0., 1., 1., 0., 0., 0., 0.,\n",
              "       1., 1., 1., 0., 1., 0., 1., 1., 1., 0., 0., 1., 1., 0., 1., 0., 1.,\n",
              "       0., 0., 0., 1., 0., 1., 1., 1., 0., 0., 0., 1., 0., 0., 0., 1., 0.,\n",
              "       1., 0., 0., 0., 0., 1., 0., 0., 0., 1., 1., 1., 0., 0., 1., 0., 0.,\n",
              "       0., 0., 1., 1., 0., 1., 0., 1., 1., 1., 0., 1., 1., 0., 1., 1., 0.,\n",
              "       0., 1., 1., 0., 1., 1., 0., 1., 0., 1., 0., 1., 0., 1., 1., 0., 0.,\n",
              "       1., 1., 0., 0., 1., 0., 0., 1., 0., 0., 0., 0., 0., 0., 0., 1., 0.,\n",
              "       1., 0., 1., 0., 0., 0., 1., 0., 1., 1., 1., 1., 0., 1., 0., 0., 1.,\n",
              "       0., 0., 1., 0., 0., 0., 1., 0., 0., 1., 1., 1., 0., 1.])"
            ]
          },
          "metadata": {},
          "execution_count": 10
        }
      ]
    },
    {
      "cell_type": "markdown",
      "source": [
        "## Question 3: building logistic_regression function"
      ],
      "metadata": {
        "id": "cyuM18m5GkVU"
      }
    },
    {
      "cell_type": "code",
      "source": [
        "#sigmoid function\n",
        "def sig(x):\n",
        " return 1/(1 + np.exp(-x))"
      ],
      "metadata": {
        "id": "T3-7cqwv-0BE"
      },
      "execution_count": 183,
      "outputs": []
    },
    {
      "cell_type": "code",
      "source": [
        "def logistic_regression(features, class_label, num_steps, learning_rate):\n",
        "  flag = 0\n",
        "  #θ0 = bias \n",
        "  #theta = [θ0 θ1 θ2]  \n",
        "  #features = [x1 x2]\n",
        "  #initialization of variables\n",
        "  gradient_theta = [0,0,0]\n",
        "  theta = [1,0,0]\n",
        "  #outer loop is for max iterations, inner loop for all datapoints in training set\n",
        "  for i in range(num_steps):\n",
        "    if flag == 1:\n",
        "      break\n",
        "    for j in range(len(features)):\n",
        "      #x is in the form of = [x1 x2] of the feature[j]\n",
        "      x = features[j]\n",
        "      # to change it into the form below,\n",
        "      # x = [1 x1 x2]\n",
        "      x = np.insert(x, 0, 1)\n",
        "      #z is θ0 + θ1x1 + θ2x2 \n",
        "      z = np.dot(theta,x)\n",
        "      # p = P(Y=1|X=x)\n",
        "      p = sig(z)\n",
        "      #gradient = (y-prediction)*xk, where k = 0,1,2\n",
        "      gradient_theta[0] = -(class_label[j] - p)*x[0]\n",
        "      gradient_theta[1] = -(class_label[j] - p)*x[1]\n",
        "      gradient_theta[2] = -(class_label[j] - p)*x[2]\n",
        "      # stochastic gradient descent, updating thetas\n",
        "      theta[0] = theta[0] - learning_rate * gradient_theta[0]\n",
        "      theta[1] = theta[1] - learning_rate * gradient_theta[1]\n",
        "      theta[2] = theta[2] - learning_rate * gradient_theta[2]\n",
        "      # if norm of gradient < 0.0001 stop the loop\n",
        "      if np.linalg.norm(gradient_theta)<0.0001:\n",
        "        flag = 1\n",
        "        break\n",
        "  return theta "
      ],
      "metadata": {
        "id": "ns81CYViS-CM"
      },
      "execution_count": 184,
      "outputs": []
    },
    {
      "cell_type": "code",
      "source": [
        "logistic_regression(X_train, Y_train, num_steps = 100, learning_rate= 0.1)"
      ],
      "metadata": {
        "colab": {
          "base_uri": "https://localhost:8080/"
        },
        "id": "zyFwfdhLVDHw",
        "outputId": "21547013-fc83-4857-d0ab-efb3b35a260a"
      },
      "execution_count": 185,
      "outputs": [
        {
          "output_type": "execute_result",
          "data": {
            "text/plain": [
              "[-4.074575302907977, -0.17280742193702137, 2.279493819626461]"
            ]
          },
          "metadata": {},
          "execution_count": 185
        }
      ]
    },
    {
      "cell_type": "markdown",
      "source": [
        "## Question 4: log likelihood values with respect to different learning rates"
      ],
      "metadata": {
        "id": "WOTuAKyeG6dL"
      }
    },
    {
      "cell_type": "code",
      "source": [
        "# for finding the log likelihood function\n",
        "def plot_LL(features, class_label, num_steps, learning_rate):\n",
        "  flag = 0\n",
        "  #θ0 = bias \n",
        "  #theta = [θ0 θ1 θ2]  \n",
        "  #features = [x1 x2]\n",
        "  #initialization of variables\n",
        "  gradient_theta = [0,0,0]\n",
        "  theta = [1, 0, 0]\n",
        "  # empty list that will hold log likelihood values\n",
        "  L = []\n",
        "  a = 0\n",
        "  #outer loop is for max iterations, inner loop for all datapoints in training set\n",
        "  for i in range(num_steps):\n",
        "    if flag == 1:\n",
        "      break\n",
        "    for j in range(len(features)):\n",
        "      #x is in the form of = [x1 x2] of the feature[j]\n",
        "      x = features[j]\n",
        "      # to change it into the form below,\n",
        "      # x = [1 x1 x2]\n",
        "      x = np.insert(x, 0, 1)\n",
        "      #z is θ0 + θ1x1 + θ2x2 \n",
        "      z = np.dot(theta,x)\n",
        "      # p = P(Y=1|X=x)\n",
        "      p = sig(z)\n",
        "      # calculuating log likelihood for current weights, biases and the datapoint values\n",
        "      # 0.0001 is added in logs to avoid log(0)\n",
        "      a = class_label[j]*np.log(p+0.0001)+(1-class_label[j])*np.log(1-p+0.0001) + a\n",
        "      # added to list for later plotting\n",
        "      L.append(a)\n",
        "      #gradient = (y-prediction)*xk, where k = 0,1,2\n",
        "      gradient_theta[0] = -(class_label[j] - p)*x[0]\n",
        "      gradient_theta[1] = -(class_label[j] - p)*x[1]\n",
        "      gradient_theta[2] = -(class_label[j] - p)*x[2]\n",
        "      # stochastic gradient descent, updating thetas\n",
        "      theta[0] = theta[0] - learning_rate * gradient_theta[0]\n",
        "      theta[1] = theta[1] - learning_rate * gradient_theta[1]\n",
        "      theta[2] = theta[2] - learning_rate * gradient_theta[2]\n",
        "      #if norm of gradient < 0.0001 stop the loop\n",
        "      if np.linalg.norm(gradient_theta)<0.0001:\n",
        "        flag = 1\n",
        "        break    \n",
        "  return L"
      ],
      "metadata": {
        "id": "RfnXVkGH5JLz"
      },
      "execution_count": 144,
      "outputs": []
    },
    {
      "cell_type": "code",
      "source": [
        "L = plot_LL(features=X_train,class_label=Y_train, num_steps= 100, learning_rate=0.01)\n",
        "n = np.arange(0, len(L))  \n",
        "plt.plot(n, L)\n",
        "plt.xlabel('len of the log likelihood')\n",
        "plt.ylabel('Log likelihood value')\n",
        "plt.title('LL functions value with each datapoints and each iteration, learning rate = 0.01 ')\n",
        "plt.show() "
      ],
      "metadata": {
        "colab": {
          "base_uri": "https://localhost:8080/",
          "height": 295
        },
        "id": "NZWvVLBO4pCk",
        "outputId": "0278ede9-2196-4925-8455-0bb2eeafb3f7"
      },
      "execution_count": 168,
      "outputs": [
        {
          "output_type": "display_data",
          "data": {
            "text/plain": [
              "<Figure size 432x288 with 1 Axes>"
            ],
            "image/png": "[encoded data removed]"
          },
          "metadata": {
            "needs_background": "light"
          }
        }
      ]
    },
    {
      "cell_type": "code",
      "source": [
        "L = plot_LL(features=X_train,class_label=Y_train, num_steps= 100, learning_rate=0.1)\n",
        "n = np.arange(0, len(L))  \n",
        "plt.plot(n, L)\n",
        "plt.xlabel('len of the log likelihood')\n",
        "plt.ylabel('Log likelihood value')\n",
        "plt.title('LL functions value with each datapoints and each iteration, learning rate = 0.1 ')\n",
        "plt.show() "
      ],
      "metadata": {
        "colab": {
          "base_uri": "https://localhost:8080/",
          "height": 295
        },
        "id": "4GgN4h5t-wpn",
        "outputId": "f1e17b54-c06e-4349-a539-f9734684d014"
      },
      "execution_count": 169,
      "outputs": [
        {
          "output_type": "display_data",
          "data": {
            "text/plain": [
              "<Figure size 432x288 with 1 Axes>"
            ],
            "image/png": "[encoded data removed]"
          },
          "metadata": {
            "needs_background": "light"
          }
        }
      ]
    },
    {
      "cell_type": "code",
      "source": [
        "L = plot_LL(features=X_train,class_label=Y_train, num_steps= 100, learning_rate=0.5)\n",
        "n = np.arange(0, len(L))  \n",
        "plt.plot(n, L)\n",
        "plt.xlabel('len of the log likelihood')\n",
        "plt.ylabel('Log likelihood value')\n",
        "plt.title('LL functions value with each datapoints and each iteration, learning rate = 0.5 ')\n",
        "plt.show() "
      ],
      "metadata": {
        "colab": {
          "base_uri": "https://localhost:8080/",
          "height": 295
        },
        "id": "rlbQZJSyFN0m",
        "outputId": "af6d01f7-a47e-4752-d828-725bbe131e89"
      },
      "execution_count": 170,
      "outputs": [
        {
          "output_type": "display_data",
          "data": {
            "text/plain": [
              "<Figure size 432x288 with 1 Axes>"
            ],
            "image/png": "[encoded data removed]"
          },
          "metadata": {
            "needs_background": "light"
          }
        }
      ]
    },
    {
      "cell_type": "code",
      "source": [
        "L = plot_LL(features=X_train,class_label=Y_train, num_steps= 100, learning_rate=1)\n",
        "n = np.arange(0, len(L))  \n",
        "plt.plot(n, L)\n",
        "plt.xlabel('len of the log likelihood')\n",
        "plt.ylabel('Log likelihood value')\n",
        "plt.title('LL functions value with each datapoints and each iteration, learning rate = 1 ')\n",
        "plt.show() "
      ],
      "metadata": {
        "colab": {
          "base_uri": "https://localhost:8080/",
          "height": 295
        },
        "id": "qyZs3iz6-93Z",
        "outputId": "c29ae7e3-5d27-47a4-ffbc-dccfd2304de5"
      },
      "execution_count": 171,
      "outputs": [
        {
          "output_type": "display_data",
          "data": {
            "text/plain": [
              "<Figure size 432x288 with 1 Axes>"
            ],
            "image/png": "[encoded data removed]"
          },
          "metadata": {
            "needs_background": "light"
          }
        }
      ]
    },
    {
      "cell_type": "code",
      "source": [
        "L = plot_LL(features=X_train,class_label=Y_train, num_steps= 100, learning_rate=5)\n",
        "n = np.arange(0, len(L))  \n",
        "plt.plot(n, L)\n",
        "plt.xlabel('len of the log likelihood')\n",
        "plt.ylabel('Log likelihood value')\n",
        "plt.title('LL functions value with each datapoints and each iteration, learning rate = 5 ')\n",
        "plt.show() "
      ],
      "metadata": {
        "colab": {
          "base_uri": "https://localhost:8080/",
          "height": 295
        },
        "id": "kiIHi_4ICMQX",
        "outputId": "4d84402c-cdd6-4ea7-f240-72e65dc93755"
      },
      "execution_count": 173,
      "outputs": [
        {
          "output_type": "display_data",
          "data": {
            "text/plain": [
              "<Figure size 432x288 with 1 Axes>"
            ],
            "image/png": "[encoded data removed]"
          },
          "metadata": {
            "needs_background": "light"
          }
        }
      ]
    },
    {
      "cell_type": "markdown",
      "source": [
        "## Question 5: Prediction Performance of logistic_regression function"
      ],
      "metadata": {
        "id": "PogR2kQFHa5L"
      }
    },
    {
      "cell_type": "code",
      "source": [
        "# with the theta values found in the logistic_regression fucntion, we find the prediction array for test set\n",
        "theta = [-4.074575302907977, -0.17280742193702137, 2.279493819626461]\n",
        "predictions = []\n",
        "for j in range(len(X_test)):\n",
        "  x = X_test[j]\n",
        "  #x = [1 x1 x2]\n",
        "  x = np.insert(x, 0, 1)\n",
        "  #z is θ0 + θ1x1 + θ2x2 \n",
        "  z = np.dot(theta,x)\n",
        "  # p = P(Y=1|X=x)\n",
        "  p = sig(z)\n",
        "  if p >= 0.5:\n",
        "    predictions.append(1)\n",
        "  else:\n",
        "    predictions.append(0)  \n"
      ],
      "metadata": {
        "id": "0_uhBVAQHjsV"
      },
      "execution_count": 187,
      "outputs": []
    },
    {
      "cell_type": "code",
      "source": [
        "# accuracy of the logistic_regression function\n",
        "error = Y_test - predictions\n",
        "#error array is the difference between predictions and test set\n",
        "#error_no holds the number of elements that are not 0, meaning misclassified datas\n",
        "error_no = np.count_nonzero(error)\n",
        "error_no\n",
        "#accuracy = (number of points tested - number of misclassified data)/(number of points tested)\n",
        "accuracy = (len(X_test)-error_no)/len(X_test)\n",
        "accuracy"
      ],
      "metadata": {
        "colab": {
          "base_uri": "https://localhost:8080/"
        },
        "id": "Ks3Lrkk5Hn26",
        "outputId": "ba6f5a29-501f-4694-cd88-3f9ca1b60d96"
      },
      "execution_count": 188,
      "outputs": [
        {
          "output_type": "execute_result",
          "data": {
            "text/plain": [
              "0.95"
            ]
          },
          "metadata": {},
          "execution_count": 188
        }
      ]
    },
    {
      "cell_type": "markdown",
      "source": [
        "## Question 6: Applying logistic_regression to real life dataset"
      ],
      "metadata": {
        "id": "ch1lGIghH0yf"
      }
    },
    {
      "cell_type": "code",
      "source": [
        "from sklearn.datasets import load_iris\n",
        "import pandas as pd\n",
        "\n",
        "# Load the Iris dataset\n",
        "iris = load_iris()\n",
        "\n",
        "# Create a pandas DataFrame from the features of the dataset\n",
        "df = pd.DataFrame(iris.data, columns=iris.feature_names)\n",
        "\n",
        "print(df.head())"
      ],
      "metadata": {
        "colab": {
          "base_uri": "https://localhost:8080/"
        },
        "id": "ZkQKvAZchGiL",
        "outputId": "ed4ba3c3-3a13-4ac1-8481-bf843701181f"
      },
      "execution_count": 276,
      "outputs": [
        {
          "output_type": "stream",
          "name": "stdout",
          "text": [
            "   sepal length (cm)  sepal width (cm)  petal length (cm)  petal width (cm)\n",
            "0                5.1               3.5                1.4               0.2\n",
            "1                4.9               3.0                1.4               0.2\n",
            "2                4.7               3.2                1.3               0.2\n",
            "3                4.6               3.1                1.5               0.2\n",
            "4                5.0               3.6                1.4               0.2\n"
          ]
        }
      ]
    },
    {
      "cell_type": "code",
      "source": [
        "labels = iris.target\n",
        "print(labels)"
      ],
      "metadata": {
        "colab": {
          "base_uri": "https://localhost:8080/"
        },
        "id": "ZyeqO_6Whlzy",
        "outputId": "7cf21683-158b-474b-b37a-8c724decd939"
      },
      "execution_count": 277,
      "outputs": [
        {
          "output_type": "stream",
          "name": "stdout",
          "text": [
            "[0 0 0 0 0 0 0 0 0 0 0 0 0 0 0 0 0 0 0 0 0 0 0 0 0 0 0 0 0 0 0 0 0 0 0 0 0\n",
            " 0 0 0 0 0 0 0 0 0 0 0 0 0 1 1 1 1 1 1 1 1 1 1 1 1 1 1 1 1 1 1 1 1 1 1 1 1\n",
            " 1 1 1 1 1 1 1 1 1 1 1 1 1 1 1 1 1 1 1 1 1 1 1 1 1 1 2 2 2 2 2 2 2 2 2 2 2\n",
            " 2 2 2 2 2 2 2 2 2 2 2 2 2 2 2 2 2 2 2 2 2 2 2 2 2 2 2 2 2 2 2 2 2 2 2 2 2\n",
            " 2 2]\n"
          ]
        }
      ]
    },
    {
      "cell_type": "code",
      "source": [
        "df['target'] = labels\n",
        "print(df)"
      ],
      "metadata": {
        "colab": {
          "base_uri": "https://localhost:8080/"
        },
        "id": "yZfNEuSHhsFj",
        "outputId": "0d2bd923-a9e5-45ec-e0af-cdd82e4a7c0d"
      },
      "execution_count": 278,
      "outputs": [
        {
          "output_type": "stream",
          "name": "stdout",
          "text": [
            "     sepal length (cm)  sepal width (cm)  petal length (cm)  petal width (cm)  \\\n",
            "0                  5.1               3.5                1.4               0.2   \n",
            "1                  4.9               3.0                1.4               0.2   \n",
            "2                  4.7               3.2                1.3               0.2   \n",
            "3                  4.6               3.1                1.5               0.2   \n",
            "4                  5.0               3.6                1.4               0.2   \n",
            "..                 ...               ...                ...               ...   \n",
            "145                6.7               3.0                5.2               2.3   \n",
            "146                6.3               2.5                5.0               1.9   \n",
            "147                6.5               3.0                5.2               2.0   \n",
            "148                6.2               3.4                5.4               2.3   \n",
            "149                5.9               3.0                5.1               1.8   \n",
            "\n",
            "     target  \n",
            "0         0  \n",
            "1         0  \n",
            "2         0  \n",
            "3         0  \n",
            "4         0  \n",
            "..      ...  \n",
            "145       2  \n",
            "146       2  \n",
            "147       2  \n",
            "148       2  \n",
            "149       2  \n",
            "\n",
            "[150 rows x 5 columns]\n"
          ]
        }
      ]
    },
    {
      "cell_type": "code",
      "source": [
        "#testing on classes y = 0 and y = 1\n",
        "\n",
        "# drop the rows where column 'target' =  2\n",
        "df = df[df['target'] != 2]\n",
        "\n",
        "print(df)"
      ],
      "metadata": {
        "colab": {
          "base_uri": "https://localhost:8080/"
        },
        "id": "spc457DWiXkn",
        "outputId": "f928a77f-a87a-4848-9a03-c78e70ad7804"
      },
      "execution_count": 279,
      "outputs": [
        {
          "output_type": "stream",
          "name": "stdout",
          "text": [
            "    sepal length (cm)  sepal width (cm)  petal length (cm)  petal width (cm)  \\\n",
            "0                 5.1               3.5                1.4               0.2   \n",
            "1                 4.9               3.0                1.4               0.2   \n",
            "2                 4.7               3.2                1.3               0.2   \n",
            "3                 4.6               3.1                1.5               0.2   \n",
            "4                 5.0               3.6                1.4               0.2   \n",
            "..                ...               ...                ...               ...   \n",
            "95                5.7               3.0                4.2               1.2   \n",
            "96                5.7               2.9                4.2               1.3   \n",
            "97                6.2               2.9                4.3               1.3   \n",
            "98                5.1               2.5                3.0               1.1   \n",
            "99                5.7               2.8                4.1               1.3   \n",
            "\n",
            "    target  \n",
            "0        0  \n",
            "1        0  \n",
            "2        0  \n",
            "3        0  \n",
            "4        0  \n",
            "..     ...  \n",
            "95       1  \n",
            "96       1  \n",
            "97       1  \n",
            "98       1  \n",
            "99       1  \n",
            "\n",
            "[100 rows x 5 columns]\n"
          ]
        }
      ]
    },
    {
      "cell_type": "code",
      "source": [
        "# shuffle the rows of dataframe\n",
        "df = df.sample(frac=1).reset_index(drop=True)\n",
        "\n",
        "print(df)"
      ],
      "metadata": {
        "colab": {
          "base_uri": "https://localhost:8080/"
        },
        "id": "j6JTFdkEiqpM",
        "outputId": "d0bb5b38-e126-4f1a-c907-072742fad637"
      },
      "execution_count": 280,
      "outputs": [
        {
          "output_type": "stream",
          "name": "stdout",
          "text": [
            "    sepal length (cm)  sepal width (cm)  petal length (cm)  petal width (cm)  \\\n",
            "0                 6.1               3.0                4.6               1.4   \n",
            "1                 5.1               3.7                1.5               0.4   \n",
            "2                 5.1               3.8                1.5               0.3   \n",
            "3                 4.8               3.4                1.6               0.2   \n",
            "4                 5.0               2.3                3.3               1.0   \n",
            "..                ...               ...                ...               ...   \n",
            "95                5.6               2.5                3.9               1.1   \n",
            "96                6.0               3.4                4.5               1.6   \n",
            "97                5.0               3.6                1.4               0.2   \n",
            "98                6.3               2.5                4.9               1.5   \n",
            "99                5.0               3.4                1.5               0.2   \n",
            "\n",
            "    target  \n",
            "0        1  \n",
            "1        0  \n",
            "2        0  \n",
            "3        0  \n",
            "4        1  \n",
            "..     ...  \n",
            "95       1  \n",
            "96       1  \n",
            "97       0  \n",
            "98       1  \n",
            "99       0  \n",
            "\n",
            "[100 rows x 5 columns]\n"
          ]
        }
      ]
    },
    {
      "cell_type": "code",
      "source": [
        "labels = df['target']\n",
        "labels = labels.to_numpy()\n",
        "labels"
      ],
      "metadata": {
        "colab": {
          "base_uri": "https://localhost:8080/"
        },
        "id": "2waDN0Jhi4vA",
        "outputId": "ba38efc6-fe58-46b1-a2a1-bcbb7dd6a7b9"
      },
      "execution_count": 281,
      "outputs": [
        {
          "output_type": "execute_result",
          "data": {
            "text/plain": [
              "array([1, 0, 0, 0, 1, 0, 0, 0, 1, 1, 0, 0, 1, 1, 0, 0, 1, 1, 0, 0, 1, 1,\n",
              "       1, 0, 0, 1, 0, 0, 0, 1, 1, 0, 0, 1, 1, 1, 0, 1, 0, 1, 0, 1, 0, 0,\n",
              "       0, 0, 0, 0, 1, 0, 1, 1, 1, 1, 1, 1, 0, 1, 0, 1, 1, 0, 0, 0, 0, 1,\n",
              "       0, 1, 0, 0, 0, 1, 0, 1, 1, 1, 0, 1, 0, 0, 0, 1, 1, 1, 0, 1, 0, 0,\n",
              "       1, 1, 1, 0, 1, 1, 1, 1, 1, 0, 1, 0])"
            ]
          },
          "metadata": {},
          "execution_count": 281
        }
      ]
    },
    {
      "cell_type": "code",
      "source": [
        "#to not to change the function I am dropiimg 2 features from feature set\n",
        "df = df.drop('target', axis = 1)\n",
        "df = df.drop('sepal length (cm)', axis = 1)\n",
        "df = df.drop('petal length (cm)', axis = 1)\n",
        "\n",
        "features = df.to_numpy()\n",
        "features"
      ],
      "metadata": {
        "colab": {
          "base_uri": "https://localhost:8080/"
        },
        "id": "qvLLMwWLjBPz",
        "outputId": "8d69b027-7c7a-4e08-e8a7-6f96846855c7"
      },
      "execution_count": 282,
      "outputs": [
        {
          "output_type": "execute_result",
          "data": {
            "text/plain": [
              "array([[3. , 1.4],\n",
              "       [3.7, 0.4],\n",
              "       [3.8, 0.3],\n",
              "       [3.4, 0.2],\n",
              "       [2.3, 1. ],\n",
              "       [3.2, 0.2],\n",
              "       [3.2, 0.2],\n",
              "       [3.8, 0.4],\n",
              "       [2.9, 1.3],\n",
              "       [3. , 1.2],\n",
              "       [3. , 0.2],\n",
              "       [3.1, 0.1],\n",
              "       [2.3, 1.3],\n",
              "       [3.2, 1.4],\n",
              "       [3. , 0.2],\n",
              "       [3.9, 0.4],\n",
              "       [2.4, 1. ],\n",
              "       [2. , 1. ],\n",
              "       [3.4, 0.4],\n",
              "       [3.3, 0.2],\n",
              "       [3. , 1.5],\n",
              "       [2.6, 1. ],\n",
              "       [3.1, 1.5],\n",
              "       [3.9, 0.4],\n",
              "       [3. , 0.1],\n",
              "       [2.2, 1.5],\n",
              "       [4. , 0.2],\n",
              "       [3.2, 0.2],\n",
              "       [3.4, 0.2],\n",
              "       [2.7, 1. ],\n",
              "       [2.2, 1. ],\n",
              "       [3.4, 0.2],\n",
              "       [3.1, 0.2],\n",
              "       [2.7, 1.2],\n",
              "       [3. , 1.7],\n",
              "       [2.9, 1.4],\n",
              "       [3.7, 0.2],\n",
              "       [2.8, 1.3],\n",
              "       [3.5, 0.2],\n",
              "       [3. , 1.5],\n",
              "       [3.5, 0.3],\n",
              "       [2.9, 1.3],\n",
              "       [3.5, 0.3],\n",
              "       [3.1, 0.2],\n",
              "       [3.8, 0.2],\n",
              "       [4.1, 0.1],\n",
              "       [3. , 0.3],\n",
              "       [3.7, 0.2],\n",
              "       [3. , 1.3],\n",
              "       [3. , 0.1],\n",
              "       [3.2, 1.5],\n",
              "       [2.9, 1.3],\n",
              "       [2.5, 1.1],\n",
              "       [2.9, 1.3],\n",
              "       [3.1, 1.5],\n",
              "       [2.4, 1.1],\n",
              "       [3.4, 0.2],\n",
              "       [3.3, 1.6],\n",
              "       [3.8, 0.3],\n",
              "       [2.6, 1.2],\n",
              "       [3.1, 1.4],\n",
              "       [3.5, 0.2],\n",
              "       [3.4, 0.4],\n",
              "       [3.4, 0.2],\n",
              "       [3.1, 0.2],\n",
              "       [2.8, 1.3],\n",
              "       [3.2, 0.2],\n",
              "       [2.7, 1.4],\n",
              "       [3.2, 0.2],\n",
              "       [3. , 0.2],\n",
              "       [4.2, 0.2],\n",
              "       [3. , 1.4],\n",
              "       [3.6, 0.1],\n",
              "       [3.2, 1.8],\n",
              "       [2.8, 1.4],\n",
              "       [3. , 1.5],\n",
              "       [3.6, 0.2],\n",
              "       [2.8, 1.5],\n",
              "       [3.3, 0.5],\n",
              "       [2.3, 0.3],\n",
              "       [3.5, 0.6],\n",
              "       [2.6, 1.2],\n",
              "       [2.3, 1.3],\n",
              "       [2.7, 1.6],\n",
              "       [3.5, 0.2],\n",
              "       [2.4, 1. ],\n",
              "       [2.9, 0.2],\n",
              "       [4.4, 0.4],\n",
              "       [2.9, 1.3],\n",
              "       [2.7, 1.3],\n",
              "       [2.9, 1.5],\n",
              "       [3.4, 0.3],\n",
              "       [2.8, 1.2],\n",
              "       [2.8, 1.3],\n",
              "       [2.5, 1.3],\n",
              "       [2.5, 1.1],\n",
              "       [3.4, 1.6],\n",
              "       [3.6, 0.2],\n",
              "       [2.5, 1.5],\n",
              "       [3.4, 0.2]])"
            ]
          },
          "metadata": {},
          "execution_count": 282
        }
      ]
    },
    {
      "cell_type": "code",
      "source": [
        "# training, test split\n",
        "#60% is training set and 40% is test set\n",
        "X_train,X_test = features[:80],features[80:]\n",
        "Y_train,Y_test = labels[:80],labels[80:]"
      ],
      "metadata": {
        "id": "AIjOWFXSj4Ro"
      },
      "execution_count": 283,
      "outputs": []
    },
    {
      "cell_type": "code",
      "source": [
        "len(Y_test)"
      ],
      "metadata": {
        "colab": {
          "base_uri": "https://localhost:8080/"
        },
        "id": "Kfub3irApcbt",
        "outputId": "dade43be-3707-40d8-c232-d434e995653b"
      },
      "execution_count": 287,
      "outputs": [
        {
          "output_type": "execute_result",
          "data": {
            "text/plain": [
              "20"
            ]
          },
          "metadata": {},
          "execution_count": 287
        }
      ]
    },
    {
      "cell_type": "code",
      "source": [
        "logistic_regression(X_train, Y_train, num_steps = 100, learning_rate= 0.1)"
      ],
      "metadata": {
        "colab": {
          "base_uri": "https://localhost:8080/"
        },
        "id": "nJ-wEXmIkgfS",
        "outputId": "3d30973c-3338-4850-8304-3fece2fbcb2c"
      },
      "execution_count": 288,
      "outputs": [
        {
          "output_type": "execute_result",
          "data": {
            "text/plain": [
              "[1.5067633665716151, -2.919697788729832, 9.37518748964463]"
            ]
          },
          "metadata": {},
          "execution_count": 288
        }
      ]
    },
    {
      "cell_type": "code",
      "source": [
        "# with the theta values found in the logistic_regression fucntion, we find the prediction array for test set\n",
        "theta = [1.5067633665716151, -2.919697788729832, 9.37518748964463]\n",
        "predictions = []\n",
        "for j in range(len(X_test)):\n",
        "  x = X_test[j]\n",
        "  #x = [1 x1 x2]\n",
        "  x = np.insert(x, 0, 1)\n",
        "  #z is θ0 + θ1x1 + θ2x2 \n",
        "  z = np.dot(theta,x)\n",
        "  # p = P(Y=1|X=x)\n",
        "  p = sig(z)\n",
        "  if p >= 0.5:\n",
        "    predictions.append(1)\n",
        "  else:\n",
        "    predictions.append(0)  "
      ],
      "metadata": {
        "id": "Aunlyr4DlSuI"
      },
      "execution_count": 289,
      "outputs": []
    },
    {
      "cell_type": "code",
      "source": [
        "# accuracy of the logistic_regression function\n",
        "error = Y_test - predictions\n",
        "#error array is the difference between predictions and test set\n",
        "#error_no holds the number of elements that are not 0, meaning misclassified datas\n",
        "error_no = np.count_nonzero(error)\n",
        "error_no\n",
        "#accuracy = (number of points tested - number of misclassified data)/(number of points tested)\n",
        "accuracy = (len(X_test)-error_no)/len(X_test)\n",
        "accuracy"
      ],
      "metadata": {
        "colab": {
          "base_uri": "https://localhost:8080/"
        },
        "id": "JIc2b-nolcLT",
        "outputId": "c44f748d-5c2e-48bb-c603-7b2224652f5c"
      },
      "execution_count": 290,
      "outputs": [
        {
          "output_type": "execute_result",
          "data": {
            "text/plain": [
              "1.0"
            ]
          },
          "metadata": {},
          "execution_count": 290
        }
      ]
    },
    {
      "cell_type": "code",
      "source": [
        "\n",
        "# Load the Iris dataset\n",
        "iris = load_iris()\n",
        "\n",
        "# Create a pandas DataFrame from the features of the dataset\n",
        "df = pd.DataFrame(iris.data, columns=iris.feature_names)\n",
        "\n",
        "print(df.head())\n",
        "labels = iris.target\n",
        "print(labels)\n"
      ],
      "metadata": {
        "colab": {
          "base_uri": "https://localhost:8080/"
        },
        "id": "NYBMUJRQmIh1",
        "outputId": "211133e9-152c-4ee6-f8c6-c6d685e33587"
      },
      "execution_count": 291,
      "outputs": [
        {
          "output_type": "stream",
          "name": "stdout",
          "text": [
            "   sepal length (cm)  sepal width (cm)  petal length (cm)  petal width (cm)\n",
            "0                5.1               3.5                1.4               0.2\n",
            "1                4.9               3.0                1.4               0.2\n",
            "2                4.7               3.2                1.3               0.2\n",
            "3                4.6               3.1                1.5               0.2\n",
            "4                5.0               3.6                1.4               0.2\n",
            "[0 0 0 0 0 0 0 0 0 0 0 0 0 0 0 0 0 0 0 0 0 0 0 0 0 0 0 0 0 0 0 0 0 0 0 0 0\n",
            " 0 0 0 0 0 0 0 0 0 0 0 0 0 1 1 1 1 1 1 1 1 1 1 1 1 1 1 1 1 1 1 1 1 1 1 1 1\n",
            " 1 1 1 1 1 1 1 1 1 1 1 1 1 1 1 1 1 1 1 1 1 1 1 1 1 1 2 2 2 2 2 2 2 2 2 2 2\n",
            " 2 2 2 2 2 2 2 2 2 2 2 2 2 2 2 2 2 2 2 2 2 2 2 2 2 2 2 2 2 2 2 2 2 2 2 2 2\n",
            " 2 2]\n"
          ]
        }
      ]
    },
    {
      "cell_type": "code",
      "source": [
        "#testing on classes y = 2 and y = 1\n",
        "df['target'] = labels\n",
        "print(df)\n",
        "\n",
        "# drop the rows where column 'target' =  0\n",
        "df = df[df['target'] != 0]\n",
        "\n",
        "print(df)\n",
        "\n"
      ],
      "metadata": {
        "colab": {
          "base_uri": "https://localhost:8080/"
        },
        "id": "8tyfbK4imGET",
        "outputId": "d384513d-5f8a-41c0-b367-4b9e5f844d7a"
      },
      "execution_count": 292,
      "outputs": [
        {
          "output_type": "stream",
          "name": "stdout",
          "text": [
            "     sepal length (cm)  sepal width (cm)  petal length (cm)  petal width (cm)  \\\n",
            "0                  5.1               3.5                1.4               0.2   \n",
            "1                  4.9               3.0                1.4               0.2   \n",
            "2                  4.7               3.2                1.3               0.2   \n",
            "3                  4.6               3.1                1.5               0.2   \n",
            "4                  5.0               3.6                1.4               0.2   \n",
            "..                 ...               ...                ...               ...   \n",
            "145                6.7               3.0                5.2               2.3   \n",
            "146                6.3               2.5                5.0               1.9   \n",
            "147                6.5               3.0                5.2               2.0   \n",
            "148                6.2               3.4                5.4               2.3   \n",
            "149                5.9               3.0                5.1               1.8   \n",
            "\n",
            "     target  \n",
            "0         0  \n",
            "1         0  \n",
            "2         0  \n",
            "3         0  \n",
            "4         0  \n",
            "..      ...  \n",
            "145       2  \n",
            "146       2  \n",
            "147       2  \n",
            "148       2  \n",
            "149       2  \n",
            "\n",
            "[150 rows x 5 columns]\n",
            "     sepal length (cm)  sepal width (cm)  petal length (cm)  petal width (cm)  \\\n",
            "50                 7.0               3.2                4.7               1.4   \n",
            "51                 6.4               3.2                4.5               1.5   \n",
            "52                 6.9               3.1                4.9               1.5   \n",
            "53                 5.5               2.3                4.0               1.3   \n",
            "54                 6.5               2.8                4.6               1.5   \n",
            "..                 ...               ...                ...               ...   \n",
            "145                6.7               3.0                5.2               2.3   \n",
            "146                6.3               2.5                5.0               1.9   \n",
            "147                6.5               3.0                5.2               2.0   \n",
            "148                6.2               3.4                5.4               2.3   \n",
            "149                5.9               3.0                5.1               1.8   \n",
            "\n",
            "     target  \n",
            "50        1  \n",
            "51        1  \n",
            "52        1  \n",
            "53        1  \n",
            "54        1  \n",
            "..      ...  \n",
            "145       2  \n",
            "146       2  \n",
            "147       2  \n",
            "148       2  \n",
            "149       2  \n",
            "\n",
            "[100 rows x 5 columns]\n"
          ]
        }
      ]
    },
    {
      "cell_type": "code",
      "source": [
        "# shuffle the rows of dataframe\n",
        "df = df.sample(frac=1).reset_index(drop=True)\n",
        "\n",
        "print(df)"
      ],
      "metadata": {
        "colab": {
          "base_uri": "https://localhost:8080/"
        },
        "id": "OlZCQKzkmpBw",
        "outputId": "f747421d-5ce1-425f-ca45-bb12e8c78da3"
      },
      "execution_count": 293,
      "outputs": [
        {
          "output_type": "stream",
          "name": "stdout",
          "text": [
            "    sepal length (cm)  sepal width (cm)  petal length (cm)  petal width (cm)  \\\n",
            "0                 5.8               2.8                5.1               2.4   \n",
            "1                 5.6               2.9                3.6               1.3   \n",
            "2                 6.4               3.2                5.3               2.3   \n",
            "3                 6.7               3.0                5.2               2.3   \n",
            "4                 6.2               2.2                4.5               1.5   \n",
            "..                ...               ...                ...               ...   \n",
            "95                6.0               2.2                4.0               1.0   \n",
            "96                5.5               2.4                3.8               1.1   \n",
            "97                7.6               3.0                6.6               2.1   \n",
            "98                7.2               3.0                5.8               1.6   \n",
            "99                5.5               2.5                4.0               1.3   \n",
            "\n",
            "    target  \n",
            "0        2  \n",
            "1        1  \n",
            "2        2  \n",
            "3        2  \n",
            "4        1  \n",
            "..     ...  \n",
            "95       1  \n",
            "96       1  \n",
            "97       2  \n",
            "98       2  \n",
            "99       1  \n",
            "\n",
            "[100 rows x 5 columns]\n"
          ]
        }
      ]
    },
    {
      "cell_type": "code",
      "source": [
        "labels = df['target']\n",
        "labels = labels.to_numpy()\n",
        "labels"
      ],
      "metadata": {
        "colab": {
          "base_uri": "https://localhost:8080/"
        },
        "id": "d7qmAc3mmuaV",
        "outputId": "95a25d9a-9b7c-415f-e523-71c8c520ff21"
      },
      "execution_count": 294,
      "outputs": [
        {
          "output_type": "execute_result",
          "data": {
            "text/plain": [
              "array([2, 1, 2, 2, 1, 1, 1, 1, 2, 2, 1, 2, 1, 1, 2, 2, 1, 2, 1, 1, 2, 2,\n",
              "       2, 1, 2, 1, 2, 2, 2, 1, 1, 2, 1, 1, 2, 1, 2, 2, 1, 2, 1, 2, 2, 2,\n",
              "       2, 2, 1, 1, 2, 2, 1, 1, 2, 1, 2, 1, 1, 1, 2, 1, 1, 2, 2, 2, 2, 1,\n",
              "       2, 1, 1, 2, 2, 1, 2, 1, 2, 1, 1, 1, 1, 2, 2, 2, 1, 1, 1, 1, 2, 2,\n",
              "       2, 1, 1, 2, 1, 2, 1, 1, 1, 2, 2, 1])"
            ]
          },
          "metadata": {},
          "execution_count": 294
        }
      ]
    },
    {
      "cell_type": "code",
      "source": [
        "#to not to change the function I am dropiimg 2 features from feature set\n",
        "df = df.drop('target', axis = 1)\n",
        "df = df.drop('sepal length (cm)', axis = 1)\n",
        "df = df.drop('petal length (cm)', axis = 1)\n",
        "\n",
        "features = df.to_numpy()\n",
        "features"
      ],
      "metadata": {
        "colab": {
          "base_uri": "https://localhost:8080/"
        },
        "id": "VceG1Zgnmzc9",
        "outputId": "0869fbd9-7f1e-4aae-f7bb-c96ce60bf44a"
      },
      "execution_count": 295,
      "outputs": [
        {
          "output_type": "execute_result",
          "data": {
            "text/plain": [
              "array([[2.8, 2.4],\n",
              "       [2.9, 1.3],\n",
              "       [3.2, 2.3],\n",
              "       [3. , 2.3],\n",
              "       [2.2, 1.5],\n",
              "       [2.8, 1.2],\n",
              "       [2.7, 1.4],\n",
              "       [3. , 1.5],\n",
              "       [2.8, 2.2],\n",
              "       [3. , 1.8],\n",
              "       [2.8, 1.5],\n",
              "       [3.1, 2.3],\n",
              "       [3.1, 1.5],\n",
              "       [2.7, 1.3],\n",
              "       [3. , 2.1],\n",
              "       [2.2, 1.5],\n",
              "       [2.8, 1.4],\n",
              "       [2.8, 1.5],\n",
              "       [2.9, 1.3],\n",
              "       [2.4, 1. ],\n",
              "       [2.7, 1.9],\n",
              "       [3.3, 2.5],\n",
              "       [3. , 1.8],\n",
              "       [2.3, 1. ],\n",
              "       [2.7, 1.8],\n",
              "       [3.2, 1.8],\n",
              "       [2.5, 2. ],\n",
              "       [3. , 1.8],\n",
              "       [3.8, 2.2],\n",
              "       [2.4, 1. ],\n",
              "       [2.7, 1.2],\n",
              "       [3.6, 2.5],\n",
              "       [2.3, 1.3],\n",
              "       [2.5, 1.1],\n",
              "       [2.9, 1.8],\n",
              "       [3.1, 1.5],\n",
              "       [2.6, 1.4],\n",
              "       [2.8, 1.8],\n",
              "       [3. , 1.5],\n",
              "       [3.8, 2. ],\n",
              "       [2.7, 1.6],\n",
              "       [2.5, 1.8],\n",
              "       [3.4, 2.3],\n",
              "       [3.2, 1.8],\n",
              "       [2.8, 2.1],\n",
              "       [3.2, 2. ],\n",
              "       [2.9, 1.3],\n",
              "       [2.8, 1.3],\n",
              "       [3.3, 2.1],\n",
              "       [3.1, 2.1],\n",
              "       [2.6, 1.2],\n",
              "       [3.3, 1.6],\n",
              "       [2.8, 2. ],\n",
              "       [3. , 1.5],\n",
              "       [2.5, 1.9],\n",
              "       [3. , 1.3],\n",
              "       [2.5, 1.1],\n",
              "       [3. , 1.7],\n",
              "       [3.1, 1.8],\n",
              "       [2.7, 1. ],\n",
              "       [3. , 1.2],\n",
              "       [3. , 2. ],\n",
              "       [3. , 2.3],\n",
              "       [3.1, 2.4],\n",
              "       [3. , 2.2],\n",
              "       [2.8, 1.3],\n",
              "       [2.7, 1.9],\n",
              "       [3. , 1.4],\n",
              "       [3.2, 1.5],\n",
              "       [3. , 2.1],\n",
              "       [2.7, 1.9],\n",
              "       [3.2, 1.4],\n",
              "       [2.8, 2. ],\n",
              "       [2.5, 1.5],\n",
              "       [2.8, 1.9],\n",
              "       [2.9, 1.3],\n",
              "       [2.9, 1.5],\n",
              "       [2. , 1. ],\n",
              "       [2.6, 1.2],\n",
              "       [3.2, 2.3],\n",
              "       [2.5, 1.7],\n",
              "       [2.9, 1.8],\n",
              "       [3. , 1.4],\n",
              "       [2.9, 1.4],\n",
              "       [2.3, 1.3],\n",
              "       [2.9, 1.3],\n",
              "       [3.2, 2.3],\n",
              "       [2.6, 2.3],\n",
              "       [3.4, 2.4],\n",
              "       [2.6, 1. ],\n",
              "       [3.4, 1.6],\n",
              "       [3.3, 2.5],\n",
              "       [3.1, 1.4],\n",
              "       [3. , 1.8],\n",
              "       [2.8, 1.3],\n",
              "       [2.2, 1. ],\n",
              "       [2.4, 1.1],\n",
              "       [3. , 2.1],\n",
              "       [3. , 1.6],\n",
              "       [2.5, 1.3]])"
            ]
          },
          "metadata": {},
          "execution_count": 295
        }
      ]
    },
    {
      "cell_type": "code",
      "source": [
        "# training, test split\n",
        "#80% is training set and 20% is test set\n",
        "X_train,X_test = features[:80],features[80:]\n",
        "Y_train,Y_test = labels[:80],labels[80:]"
      ],
      "metadata": {
        "id": "inCS8esgm38d"
      },
      "execution_count": 296,
      "outputs": []
    },
    {
      "cell_type": "code",
      "source": [
        "len(X_test)"
      ],
      "metadata": {
        "colab": {
          "base_uri": "https://localhost:8080/"
        },
        "id": "SJq-13Flprke",
        "outputId": "d640a5f4-e4ad-4758-e2ec-84653e58c0c8"
      },
      "execution_count": 300,
      "outputs": [
        {
          "output_type": "execute_result",
          "data": {
            "text/plain": [
              "20"
            ]
          },
          "metadata": {},
          "execution_count": 300
        }
      ]
    },
    {
      "cell_type": "code",
      "source": [
        "logistic_regression(X_train, Y_train, num_steps = 100, learning_rate= 0.1)"
      ],
      "metadata": {
        "colab": {
          "base_uri": "https://localhost:8080/"
        },
        "id": "yeUXHLmTnAW_",
        "outputId": "d2b0f88b-10e5-4715-dde5-1f9acdd6065a"
      },
      "execution_count": 301,
      "outputs": [
        {
          "output_type": "execute_result",
          "data": {
            "text/plain": [
              "[1.8423543379911074, 2.4308124183371826, 1.7806178702196556]"
            ]
          },
          "metadata": {},
          "execution_count": 301
        }
      ]
    },
    {
      "cell_type": "code",
      "source": [
        "# with the theta values found in the logistic_regression fucntion, we find the prediction array for test set\n",
        "theta = [1.8423543379911074, 2.4308124183371826, 1.7806178702196556]\n",
        "predictions = []\n",
        "for j in range(len(X_test)):\n",
        "  x = X_test[j]\n",
        "  #x = [1 x1 x2]\n",
        "  x = np.insert(x, 0, 1)\n",
        "  #z is θ0 + θ1x1 + θ2x2 \n",
        "  z = np.dot(theta,x)\n",
        "  # p = P(Y=1|X=x)\n",
        "  p = sig(z)\n",
        "  if p >= 0.5:\n",
        "    predictions.append(1)\n",
        "  else:\n",
        "    predictions.append(0)  "
      ],
      "metadata": {
        "id": "lKTXjTnwnCqH"
      },
      "execution_count": 302,
      "outputs": []
    },
    {
      "cell_type": "code",
      "source": [
        "# accuracy of the logistic_regression function\n",
        "error = Y_test - predictions\n",
        "#error array is the difference between predictions and test set\n",
        "#error_no holds the number of elements that are not 0, meaning misclassified datas\n",
        "error_no = np.count_nonzero(error)\n",
        "error_no\n",
        "#accuracy = (number of points tested - number of misclassified data)/(number of points tested)\n",
        "accuracy = (len(X_test)-error_no)/len(X_test)\n",
        "accuracy"
      ],
      "metadata": {
        "colab": {
          "base_uri": "https://localhost:8080/"
        },
        "id": "JHpWn149nIZ2",
        "outputId": "ed4c575a-e5cf-45b4-e81a-6a9d781e0bc5"
      },
      "execution_count": 303,
      "outputs": [
        {
          "output_type": "execute_result",
          "data": {
            "text/plain": [
              "0.55"
            ]
          },
          "metadata": {},
          "execution_count": 303
        }
      ]
    },
    {
      "cell_type": "code",
      "source": [
        "# Load the Iris dataset\n",
        "iris = load_iris()\n",
        "\n",
        "# Create a pandas DataFrame from the features of the dataset\n",
        "df = pd.DataFrame(iris.data, columns=iris.feature_names)\n",
        "\n",
        "print(df.head())\n"
      ],
      "metadata": {
        "colab": {
          "base_uri": "https://localhost:8080/"
        },
        "id": "GjT6adE5nMPJ",
        "outputId": "a1b216e0-af6e-4d5a-d6c3-9d1f7e28b402"
      },
      "execution_count": 304,
      "outputs": [
        {
          "output_type": "stream",
          "name": "stdout",
          "text": [
            "   sepal length (cm)  sepal width (cm)  petal length (cm)  petal width (cm)\n",
            "0                5.1               3.5                1.4               0.2\n",
            "1                4.9               3.0                1.4               0.2\n",
            "2                4.7               3.2                1.3               0.2\n",
            "3                4.6               3.1                1.5               0.2\n",
            "4                5.0               3.6                1.4               0.2\n"
          ]
        }
      ]
    },
    {
      "cell_type": "code",
      "source": [
        "labels = iris.target\n",
        "print(labels)"
      ],
      "metadata": {
        "colab": {
          "base_uri": "https://localhost:8080/"
        },
        "id": "Z1fdtPQNnxEa",
        "outputId": "e598caf5-389d-4373-a6d4-3c8a2ce39497"
      },
      "execution_count": 305,
      "outputs": [
        {
          "output_type": "stream",
          "name": "stdout",
          "text": [
            "[0 0 0 0 0 0 0 0 0 0 0 0 0 0 0 0 0 0 0 0 0 0 0 0 0 0 0 0 0 0 0 0 0 0 0 0 0\n",
            " 0 0 0 0 0 0 0 0 0 0 0 0 0 1 1 1 1 1 1 1 1 1 1 1 1 1 1 1 1 1 1 1 1 1 1 1 1\n",
            " 1 1 1 1 1 1 1 1 1 1 1 1 1 1 1 1 1 1 1 1 1 1 1 1 1 1 2 2 2 2 2 2 2 2 2 2 2\n",
            " 2 2 2 2 2 2 2 2 2 2 2 2 2 2 2 2 2 2 2 2 2 2 2 2 2 2 2 2 2 2 2 2 2 2 2 2 2\n",
            " 2 2]\n"
          ]
        }
      ]
    },
    {
      "cell_type": "code",
      "source": [
        "df['target'] = labels\n",
        "print(df)"
      ],
      "metadata": {
        "colab": {
          "base_uri": "https://localhost:8080/"
        },
        "id": "B7ZqhLOOnzu-",
        "outputId": "3531c9ba-ad82-4b5c-8127-dff02401294e"
      },
      "execution_count": 306,
      "outputs": [
        {
          "output_type": "stream",
          "name": "stdout",
          "text": [
            "     sepal length (cm)  sepal width (cm)  petal length (cm)  petal width (cm)  \\\n",
            "0                  5.1               3.5                1.4               0.2   \n",
            "1                  4.9               3.0                1.4               0.2   \n",
            "2                  4.7               3.2                1.3               0.2   \n",
            "3                  4.6               3.1                1.5               0.2   \n",
            "4                  5.0               3.6                1.4               0.2   \n",
            "..                 ...               ...                ...               ...   \n",
            "145                6.7               3.0                5.2               2.3   \n",
            "146                6.3               2.5                5.0               1.9   \n",
            "147                6.5               3.0                5.2               2.0   \n",
            "148                6.2               3.4                5.4               2.3   \n",
            "149                5.9               3.0                5.1               1.8   \n",
            "\n",
            "     target  \n",
            "0         0  \n",
            "1         0  \n",
            "2         0  \n",
            "3         0  \n",
            "4         0  \n",
            "..      ...  \n",
            "145       2  \n",
            "146       2  \n",
            "147       2  \n",
            "148       2  \n",
            "149       2  \n",
            "\n",
            "[150 rows x 5 columns]\n"
          ]
        }
      ]
    },
    {
      "cell_type": "code",
      "source": [
        "# drop the rows where column 'target' =  1\n",
        "df = df[df['target'] != 1]\n",
        "\n",
        "print(df)"
      ],
      "metadata": {
        "colab": {
          "base_uri": "https://localhost:8080/"
        },
        "id": "KV0lZ0Ewn2hX",
        "outputId": "ce5bd1bc-bf3a-4aab-9ef8-1ea70d96d1d3"
      },
      "execution_count": 307,
      "outputs": [
        {
          "output_type": "stream",
          "name": "stdout",
          "text": [
            "     sepal length (cm)  sepal width (cm)  petal length (cm)  petal width (cm)  \\\n",
            "0                  5.1               3.5                1.4               0.2   \n",
            "1                  4.9               3.0                1.4               0.2   \n",
            "2                  4.7               3.2                1.3               0.2   \n",
            "3                  4.6               3.1                1.5               0.2   \n",
            "4                  5.0               3.6                1.4               0.2   \n",
            "..                 ...               ...                ...               ...   \n",
            "145                6.7               3.0                5.2               2.3   \n",
            "146                6.3               2.5                5.0               1.9   \n",
            "147                6.5               3.0                5.2               2.0   \n",
            "148                6.2               3.4                5.4               2.3   \n",
            "149                5.9               3.0                5.1               1.8   \n",
            "\n",
            "     target  \n",
            "0         0  \n",
            "1         0  \n",
            "2         0  \n",
            "3         0  \n",
            "4         0  \n",
            "..      ...  \n",
            "145       2  \n",
            "146       2  \n",
            "147       2  \n",
            "148       2  \n",
            "149       2  \n",
            "\n",
            "[100 rows x 5 columns]\n"
          ]
        }
      ]
    },
    {
      "cell_type": "code",
      "source": [
        "# shuffle the rows of dataframe\n",
        "df = df.sample(frac=1).reset_index(drop=True)\n",
        "df"
      ],
      "metadata": {
        "colab": {
          "base_uri": "https://localhost:8080/",
          "height": 423
        },
        "id": "QKcLJglQn8Iv",
        "outputId": "d3dd1f31-d92f-41e0-f0bb-5e74daa0c347"
      },
      "execution_count": 308,
      "outputs": [
        {
          "output_type": "execute_result",
          "data": {
            "text/plain": [
              "    sepal length (cm)  sepal width (cm)  petal length (cm)  petal width (cm)  \\\n",
              "0                 4.8               3.4                1.6               0.2   \n",
              "1                 7.7               2.6                6.9               2.3   \n",
              "2                 6.4               2.8                5.6               2.1   \n",
              "3                 6.0               3.0                4.8               1.8   \n",
              "4                 5.0               3.0                1.6               0.2   \n",
              "..                ...               ...                ...               ...   \n",
              "95                5.1               3.3                1.7               0.5   \n",
              "96                4.6               3.1                1.5               0.2   \n",
              "97                5.8               2.7                5.1               1.9   \n",
              "98                6.1               3.0                4.9               1.8   \n",
              "99                5.0               3.2                1.2               0.2   \n",
              "\n",
              "    target  \n",
              "0        0  \n",
              "1        2  \n",
              "2        2  \n",
              "3        2  \n",
              "4        0  \n",
              "..     ...  \n",
              "95       0  \n",
              "96       0  \n",
              "97       2  \n",
              "98       2  \n",
              "99       0  \n",
              "\n",
              "[100 rows x 5 columns]"
            ],
            "text/html": [
              "\n",
              "  <div id=\"df-07cf2884-9002-4c3a-a0d7-85ed7c545027\">\n",
              "    <div class=\"colab-df-container\">\n",
              "      <div>\n",
              "<style scoped>\n",
              "    .dataframe tbody tr th:only-of-type {\n",
              "        vertical-align: middle;\n",
              "    }\n",
              "\n",
              "    .dataframe tbody tr th {\n",
              "        vertical-align: top;\n",
              "    }\n",
              "\n",
              "    .dataframe thead th {\n",
              "        text-align: right;\n",
              "    }\n",
              "</style>\n",
              "<table border=\"1\" class=\"dataframe\">\n",
              "  <thead>\n",
              "    <tr style=\"text-align: right;\">\n",
              "      <th></th>\n",
              "      <th>sepal length (cm)</th>\n",
              "      <th>sepal width (cm)</th>\n",
              "      <th>petal length (cm)</th>\n",
              "      <th>petal width (cm)</th>\n",
              "      <th>target</th>\n",
              "    </tr>\n",
              "  </thead>\n",
              "  <tbody>\n",
              "    <tr>\n",
              "      <th>0</th>\n",
              "      <td>4.8</td>\n",
              "      <td>3.4</td>\n",
              "      <td>1.6</td>\n",
              "      <td>0.2</td>\n",
              "      <td>0</td>\n",
              "    </tr>\n",
              "    <tr>\n",
              "      <th>1</th>\n",
              "      <td>7.7</td>\n",
              "      <td>2.6</td>\n",
              "      <td>6.9</td>\n",
              "      <td>2.3</td>\n",
              "      <td>2</td>\n",
              "    </tr>\n",
              "    <tr>\n",
              "      <th>2</th>\n",
              "      <td>6.4</td>\n",
              "      <td>2.8</td>\n",
              "      <td>5.6</td>\n",
              "      <td>2.1</td>\n",
              "      <td>2</td>\n",
              "    </tr>\n",
              "    <tr>\n",
              "      <th>3</th>\n",
              "      <td>6.0</td>\n",
              "      <td>3.0</td>\n",
              "      <td>4.8</td>\n",
              "      <td>1.8</td>\n",
              "      <td>2</td>\n",
              "    </tr>\n",
              "    <tr>\n",
              "      <th>4</th>\n",
              "      <td>5.0</td>\n",
              "      <td>3.0</td>\n",
              "      <td>1.6</td>\n",
              "      <td>0.2</td>\n",
              "      <td>0</td>\n",
              "    </tr>\n",
              "    <tr>\n",
              "      <th>...</th>\n",
              "      <td>...</td>\n",
              "      <td>...</td>\n",
              "      <td>...</td>\n",
              "      <td>...</td>\n",
              "      <td>...</td>\n",
              "    </tr>\n",
              "    <tr>\n",
              "      <th>95</th>\n",
              "      <td>5.1</td>\n",
              "      <td>3.3</td>\n",
              "      <td>1.7</td>\n",
              "      <td>0.5</td>\n",
              "      <td>0</td>\n",
              "    </tr>\n",
              "    <tr>\n",
              "      <th>96</th>\n",
              "      <td>4.6</td>\n",
              "      <td>3.1</td>\n",
              "      <td>1.5</td>\n",
              "      <td>0.2</td>\n",
              "      <td>0</td>\n",
              "    </tr>\n",
              "    <tr>\n",
              "      <th>97</th>\n",
              "      <td>5.8</td>\n",
              "      <td>2.7</td>\n",
              "      <td>5.1</td>\n",
              "      <td>1.9</td>\n",
              "      <td>2</td>\n",
              "    </tr>\n",
              "    <tr>\n",
              "      <th>98</th>\n",
              "      <td>6.1</td>\n",
              "      <td>3.0</td>\n",
              "      <td>4.9</td>\n",
              "      <td>1.8</td>\n",
              "      <td>2</td>\n",
              "    </tr>\n",
              "    <tr>\n",
              "      <th>99</th>\n",
              "      <td>5.0</td>\n",
              "      <td>3.2</td>\n",
              "      <td>1.2</td>\n",
              "      <td>0.2</td>\n",
              "      <td>0</td>\n",
              "    </tr>\n",
              "  </tbody>\n",
              "</table>\n",
              "<p>100 rows × 5 columns</p>\n",
              "</div>\n",
              "      <button class=\"colab-df-convert\" onclick=\"convertToInteractive('df-07cf2884-9002-4c3a-a0d7-85ed7c545027')\"\n",
              "              title=\"Convert this dataframe to an interactive table.\"\n",
              "              style=\"display:none;\">\n",
              "        \n",
              "  <svg xmlns=\"http://www.w3.org/2000/svg\" height=\"24px\"viewBox=\"0 0 24 24\"\n",
              "       width=\"24px\">\n",
              "    <path d=\"M0 0h24v24H0V0z\" fill=\"none\"/>\n",
              "    <path d=\"M18.56 5.44l.94 2.06.94-2.06 2.06-.94-2.06-.94-.94-2.06-.94 2.06-2.06.94zm-11 1L8.5 8.5l.94-2.06 2.06-.94-2.06-.94L8.5 2.5l-.94 2.06-2.06.94zm10 10l.94 2.06.94-2.06 2.06-.94-2.06-.94-.94-2.06-.94 2.06-2.06.94z\"/><path d=\"M17.41 7.96l-1.37-1.37c-.4-.4-.92-.59-1.43-.59-.52 0-1.04.2-1.43.59L10.3 9.45l-7.72 7.72c-.78.78-.78 2.05 0 2.83L4 21.41c.39.39.9.59 1.41.59.51 0 1.02-.2 1.41-.59l7.78-7.78 2.81-2.81c.8-.78.8-2.07 0-2.86zM5.41 20L4 18.59l7.72-7.72 1.47 1.35L5.41 20z\"/>\n",
              "  </svg>\n",
              "      </button>\n",
              "      \n",
              "  <style>\n",
              "    .colab-df-container {\n",
              "      display:flex;\n",
              "      flex-wrap:wrap;\n",
              "      gap: 12px;\n",
              "    }\n",
              "\n",
              "    .colab-df-convert {\n",
              "      background-color: #E8F0FE;\n",
              "      border: none;\n",
              "      border-radius: 50%;\n",
              "      cursor: pointer;\n",
              "      display: none;\n",
              "      fill: #1967D2;\n",
              "      height: 32px;\n",
              "      padding: 0 0 0 0;\n",
              "      width: 32px;\n",
              "    }\n",
              "\n",
              "    .colab-df-convert:hover {\n",
              "      background-color: #E2EBFA;\n",
              "      box-shadow: 0px 1px 2px rgba(60, 64, 67, 0.3), 0px 1px 3px 1px rgba(60, 64, 67, 0.15);\n",
              "      fill: #174EA6;\n",
              "    }\n",
              "\n",
              "    [theme=dark] .colab-df-convert {\n",
              "      background-color: #3B4455;\n",
              "      fill: #D2E3FC;\n",
              "    }\n",
              "\n",
              "    [theme=dark] .colab-df-convert:hover {\n",
              "      background-color: #434B5C;\n",
              "      box-shadow: 0px 1px 3px 1px rgba(0, 0, 0, 0.15);\n",
              "      filter: drop-shadow(0px 1px 2px rgba(0, 0, 0, 0.3));\n",
              "      fill: #FFFFFF;\n",
              "    }\n",
              "  </style>\n",
              "\n",
              "      <script>\n",
              "        const buttonEl =\n",
              "          document.querySelector('#df-07cf2884-9002-4c3a-a0d7-85ed7c545027 button.colab-df-convert');\n",
              "        buttonEl.style.display =\n",
              "          google.colab.kernel.accessAllowed ? 'block' : 'none';\n",
              "\n",
              "        async function convertToInteractive(key) {\n",
              "          const element = document.querySelector('#df-07cf2884-9002-4c3a-a0d7-85ed7c545027');\n",
              "          const dataTable =\n",
              "            await google.colab.kernel.invokeFunction('convertToInteractive',\n",
              "                                                     [key], {});\n",
              "          if (!dataTable) return;\n",
              "\n",
              "          const docLinkHtml = 'Like what you see? Visit the ' +\n",
              "            '<a target=\"_blank\" href=https://colab.research.google.com/notebooks/data_table.ipynb>data table notebook</a>'\n",
              "            + ' to learn more about interactive tables.';\n",
              "          element.innerHTML = '';\n",
              "          dataTable['output_type'] = 'display_data';\n",
              "          await google.colab.output.renderOutput(dataTable, element);\n",
              "          const docLink = document.createElement('div');\n",
              "          docLink.innerHTML = docLinkHtml;\n",
              "          element.appendChild(docLink);\n",
              "        }\n",
              "      </script>\n",
              "    </div>\n",
              "  </div>\n",
              "  "
            ]
          },
          "metadata": {},
          "execution_count": 308
        }
      ]
    },
    {
      "cell_type": "code",
      "source": [
        "labels = df['target']\n",
        "labels = labels.to_numpy()\n",
        "labels"
      ],
      "metadata": {
        "colab": {
          "base_uri": "https://localhost:8080/"
        },
        "id": "hafp3eAmn-5C",
        "outputId": "40a226af-03c6-4780-f26f-6c8d4eebbca7"
      },
      "execution_count": 309,
      "outputs": [
        {
          "output_type": "execute_result",
          "data": {
            "text/plain": [
              "array([0, 2, 2, 2, 0, 0, 2, 2, 2, 0, 2, 0, 0, 2, 0, 0, 0, 2, 2, 0, 2, 2,\n",
              "       0, 2, 0, 2, 0, 2, 0, 2, 2, 0, 0, 2, 0, 2, 0, 0, 2, 0, 2, 2, 0, 2,\n",
              "       0, 0, 0, 0, 0, 0, 0, 0, 0, 0, 2, 0, 2, 2, 2, 2, 2, 2, 0, 2, 2, 0,\n",
              "       0, 0, 2, 2, 0, 2, 0, 2, 0, 0, 2, 0, 2, 0, 2, 2, 0, 2, 2, 0, 0, 2,\n",
              "       2, 2, 2, 2, 0, 0, 2, 0, 0, 2, 2, 0])"
            ]
          },
          "metadata": {},
          "execution_count": 309
        }
      ]
    },
    {
      "cell_type": "code",
      "source": [
        "#to not to change the function I am dropiimg 2 features from feature set\n",
        "df = df.drop('target', axis = 1)\n",
        "df = df.drop('sepal length (cm)', axis = 1)\n",
        "df = df.drop('petal length (cm)', axis = 1)"
      ],
      "metadata": {
        "id": "SWZeERNGoEcR"
      },
      "execution_count": 310,
      "outputs": []
    },
    {
      "cell_type": "code",
      "source": [
        "features = df.to_numpy()\n",
        "features"
      ],
      "metadata": {
        "colab": {
          "base_uri": "https://localhost:8080/"
        },
        "id": "n7w97_X4oGnU",
        "outputId": "6f76d30e-d7ad-4134-c56c-faf1ee0f7fb8"
      },
      "execution_count": 311,
      "outputs": [
        {
          "output_type": "execute_result",
          "data": {
            "text/plain": [
              "array([[3.4, 0.2],\n",
              "       [2.6, 2.3],\n",
              "       [2.8, 2.1],\n",
              "       [3. , 1.8],\n",
              "       [3. , 0.2],\n",
              "       [3.8, 0.2],\n",
              "       [3.2, 2.3],\n",
              "       [3. , 2.2],\n",
              "       [3.1, 2.1],\n",
              "       [3.6, 0.2],\n",
              "       [3.1, 2.4],\n",
              "       [3. , 0.3],\n",
              "       [3.4, 0.2],\n",
              "       [3. , 1.8],\n",
              "       [3. , 0.1],\n",
              "       [3.1, 0.1],\n",
              "       [3.7, 0.4],\n",
              "       [2.7, 1.9],\n",
              "       [3.2, 1.8],\n",
              "       [2.3, 0.3],\n",
              "       [2.8, 1.5],\n",
              "       [3.3, 2.5],\n",
              "       [3.1, 0.2],\n",
              "       [2.7, 1.9],\n",
              "       [4.4, 0.4],\n",
              "       [3.4, 2.3],\n",
              "       [3.4, 0.4],\n",
              "       [3.4, 2.4],\n",
              "       [3.1, 0.2],\n",
              "       [3. , 1.6],\n",
              "       [2.5, 1.9],\n",
              "       [4.1, 0.1],\n",
              "       [3.8, 0.4],\n",
              "       [3.2, 2.3],\n",
              "       [3.4, 0.2],\n",
              "       [2.6, 1.4],\n",
              "       [3.4, 0.3],\n",
              "       [3.3, 0.2],\n",
              "       [3. , 1.8],\n",
              "       [3.9, 0.4],\n",
              "       [3.2, 2.3],\n",
              "       [2.8, 2.4],\n",
              "       [3.2, 0.2],\n",
              "       [2.2, 1.5],\n",
              "       [3. , 0.1],\n",
              "       [3.5, 0.3],\n",
              "       [3.8, 0.3],\n",
              "       [3.6, 0.2],\n",
              "       [3.5, 0.6],\n",
              "       [3.8, 0.3],\n",
              "       [3.5, 0.2],\n",
              "       [4. , 0.2],\n",
              "       [3.5, 0.2],\n",
              "       [3.7, 0.2],\n",
              "       [2.8, 1.8],\n",
              "       [3.4, 0.4],\n",
              "       [2.5, 1.7],\n",
              "       [3.1, 2.3],\n",
              "       [3.6, 2.5],\n",
              "       [3.8, 2.2],\n",
              "       [3. , 2.1],\n",
              "       [3.2, 2. ],\n",
              "       [3. , 0.2],\n",
              "       [2.5, 1.8],\n",
              "       [3.1, 1.8],\n",
              "       [3.2, 0.2],\n",
              "       [3. , 0.2],\n",
              "       [3.9, 0.4],\n",
              "       [3. , 2.3],\n",
              "       [2.8, 2. ],\n",
              "       [3.2, 0.2],\n",
              "       [2.9, 1.8],\n",
              "       [2.9, 0.2],\n",
              "       [2.5, 2. ],\n",
              "       [3.7, 0.2],\n",
              "       [3.4, 0.2],\n",
              "       [3.3, 2.1],\n",
              "       [3.6, 0.1],\n",
              "       [2.8, 2.2],\n",
              "       [3.5, 0.3],\n",
              "       [2.7, 1.8],\n",
              "       [2.8, 1.9],\n",
              "       [3.2, 0.2],\n",
              "       [3. , 2.3],\n",
              "       [3. , 2. ],\n",
              "       [3.4, 0.2],\n",
              "       [3.5, 0.2],\n",
              "       [2.9, 1.8],\n",
              "       [3. , 2.1],\n",
              "       [2.8, 2. ],\n",
              "       [3.8, 2. ],\n",
              "       [3. , 2.1],\n",
              "       [4.2, 0.2],\n",
              "       [3.4, 0.2],\n",
              "       [3.3, 2.5],\n",
              "       [3.3, 0.5],\n",
              "       [3.1, 0.2],\n",
              "       [2.7, 1.9],\n",
              "       [3. , 1.8],\n",
              "       [3.2, 0.2]])"
            ]
          },
          "metadata": {},
          "execution_count": 311
        }
      ]
    },
    {
      "cell_type": "code",
      "source": [
        "# training, test split\n",
        "#60% is training set and 40% is test set\n",
        "X_train,X_test = features[:80],features[80:]\n",
        "Y_train,Y_test = labels[:80],labels[80:]\n",
        "logistic_regression(X_train, Y_train, num_steps = 100, learning_rate= 0.1)"
      ],
      "metadata": {
        "colab": {
          "base_uri": "https://localhost:8080/"
        },
        "id": "vtDziONIoJmM",
        "outputId": "7bdec803-2535-443d-dac5-378bc77b7e84"
      },
      "execution_count": 312,
      "outputs": [
        {
          "output_type": "execute_result",
          "data": {
            "text/plain": [
              "[8.853988774052693, -9.715018547614019, 149.40966897747484]"
            ]
          },
          "metadata": {},
          "execution_count": 312
        }
      ]
    },
    {
      "cell_type": "code",
      "source": [
        "len(Y_test)"
      ],
      "metadata": {
        "colab": {
          "base_uri": "https://localhost:8080/"
        },
        "id": "TXs4Yd4Ep6Py",
        "outputId": "26ea0751-30cb-4524-8a62-8edfb05ec0ae"
      },
      "execution_count": 315,
      "outputs": [
        {
          "output_type": "execute_result",
          "data": {
            "text/plain": [
              "20"
            ]
          },
          "metadata": {},
          "execution_count": 315
        }
      ]
    },
    {
      "cell_type": "code",
      "source": [
        "# with the theta values found in the logistic_regression fucntion, we find the prediction array for test set\n",
        "theta = [8.853988774052693, -9.715018547614019, 149.40966897747484]\n",
        "predictions = []\n",
        "for j in range(len(X_test)):\n",
        "  x = X_test[j]\n",
        "  #x = [1 x1 x2]\n",
        "  x = np.insert(x, 0, 1)\n",
        "  #z is θ0 + θ1x1 + θ2x2 \n",
        "  z = np.dot(theta,x)\n",
        "  # p = P(Y=1|X=x)\n",
        "  p = sig(z)\n",
        "  if p >= 0.5:\n",
        "    predictions.append(1)\n",
        "  else:\n",
        "    predictions.append(0)  \n",
        "\n",
        "# accuracy of the logistic_regression function\n",
        "error = Y_test - predictions\n",
        "#error array is the difference between predictions and test set\n",
        "#error_no holds the number of elements that are not 0, meaning misclassified datas\n",
        "error_no = np.count_nonzero(error)\n",
        "error_no\n",
        "#accuracy = (number of points tested - number of misclassified data)/(number of points tested)\n",
        "accuracy = (len(X_test)-error_no)/len(X_test)\n",
        "accuracy"
      ],
      "metadata": {
        "colab": {
          "base_uri": "https://localhost:8080/"
        },
        "id": "z33fKwWDoaBM",
        "outputId": "d5f494f2-05ec-4348-c0d8-e01990fbd6a5"
      },
      "execution_count": 316,
      "outputs": [
        {
          "output_type": "execute_result",
          "data": {
            "text/plain": [
              "0.05"
            ]
          },
          "metadata": {},
          "execution_count": 316
        }
      ]
    },
    {
      "cell_type": "code",
      "source": [
        "error_no"
      ],
      "metadata": {
        "colab": {
          "base_uri": "https://localhost:8080/"
        },
        "id": "br0NUWV-reYH",
        "outputId": "c3a20931-cd5a-4f8c-f5a6-f5d649721303"
      },
      "execution_count": 317,
      "outputs": [
        {
          "output_type": "execute_result",
          "data": {
            "text/plain": [
              "19"
            ]
          },
          "metadata": {},
          "execution_count": 317
        }
      ]
    }
  ]
}