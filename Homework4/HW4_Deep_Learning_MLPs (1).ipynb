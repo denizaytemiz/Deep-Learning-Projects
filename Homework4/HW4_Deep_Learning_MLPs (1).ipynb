{
  "nbformat": 4,
  "nbformat_minor": 0,
  "metadata": {
    "colab": {
      "provenance": []
    },
    "kernelspec": {
      "name": "python3",
      "display_name": "Python 3"
    },
    "language_info": {
      "name": "python"
    }
  },
  "cells": [
    {
      "cell_type": "markdown",
      "source": [
        "Q1:  multilayer perceptrons"
      ],
      "metadata": {
        "id": "J7pt-f5yi19B"
      }
    },
    {
      "cell_type": "code",
      "source": [
        "import tensorflow as tf\n",
        "from tensorflow import keras\n",
        "from keras.models import Sequential\n",
        "from keras.layers import Dense\n",
        "from keras.layers import Flatten\n",
        "from keras.layers import Dropout\n",
        "import numpy as np"
      ],
      "metadata": {
        "id": "OOhw5_tjmwV7"
      },
      "execution_count": 1,
      "outputs": []
    },
    {
      "cell_type": "code",
      "source": [
        "#load data\n",
        "(x_train1, y_train1), (x_test1, y_test1) = tf.keras.datasets.cifar10.load_data()\n",
        "(x_train2, y_train2), (x_test2, y_test2) = tf.keras.datasets.cifar100.load_data(label_mode=\"fine\")\n"
      ],
      "metadata": {
        "id": "JzRUsIg5pYBW",
        "colab": {
          "base_uri": "https://localhost:8080/"
        },
        "outputId": "3ff9642c-87a0-4873-c8f0-372e27ff6af6"
      },
      "execution_count": 2,
      "outputs": [
        {
          "output_type": "stream",
          "name": "stdout",
          "text": [
            "Downloading data from https://www.cs.toronto.edu/~kriz/cifar-10-python.tar.gz\n",
            "170498071/170498071 [==============================] - 5s 0us/step\n",
            "Downloading data from https://www.cs.toronto.edu/~kriz/cifar-100-python.tar.gz\n",
            "169001437/169001437 [==============================] - 6s 0us/step\n"
          ]
        }
      ]
    },
    {
      "cell_type": "code",
      "source": [
        "print(x_train1.shape)\n",
        "print(x_train2.shape)\n",
        "print(x_test1.shape)\n",
        "print(x_test2.shape)"
      ],
      "metadata": {
        "colab": {
          "base_uri": "https://localhost:8080/"
        },
        "id": "nzp9FPbW-KKp",
        "outputId": "fccc03cf-dc00-44fb-f11f-d252920364b7"
      },
      "execution_count": 4,
      "outputs": [
        {
          "output_type": "stream",
          "name": "stdout",
          "text": [
            "(50000, 32, 32, 3)\n",
            "(50000, 32, 32, 3)\n",
            "(10000, 32, 32, 3)\n",
            "(10000, 32, 32, 3)\n"
          ]
        }
      ]
    },
    {
      "cell_type": "code",
      "source": [
        "#normalize pixel intensity values\n",
        "x_train1 = x_train1/255\n",
        "x_train2 = x_train2/255\n",
        "\n",
        "x_test1 = x_test1/255\n",
        "x_test2 = x_test2/255"
      ],
      "metadata": {
        "id": "B86MRbyQpcwi"
      },
      "execution_count": 3,
      "outputs": []
    },
    {
      "cell_type": "code",
      "source": [
        "#labels are one hot encoded\n",
        "from keras.utils import to_categorical\n",
        "\n",
        "y_one_hot1 = to_categorical(y_train1)\n",
        "\n",
        "\n",
        "y_test_one_hot1 = to_categorical(y_test1)\n",
        "\n",
        "\n",
        "y_one_hot2 = to_categorical(y_train2)\n",
        "\n",
        "\n",
        "y_test_one_hot2 = to_categorical(y_test2)"
      ],
      "metadata": {
        "id": "DVirLf8EsJzi"
      },
      "execution_count": 4,
      "outputs": []
    },
    {
      "cell_type": "code",
      "source": [
        "print(y_one_hot1.shape)\n",
        "print(y_test_one_hot1.shape)\n",
        "print(y_one_hot2.shape)\n",
        "print(y_test_one_hot2.shape)"
      ],
      "metadata": {
        "colab": {
          "base_uri": "https://localhost:8080/"
        },
        "id": "_fzwGsDg-Yvc",
        "outputId": "de158b11-0800-463f-dbbc-387c1739f743"
      },
      "execution_count": 7,
      "outputs": [
        {
          "output_type": "stream",
          "name": "stdout",
          "text": [
            "(50000, 10)\n",
            "(10000, 10)\n",
            "(50000, 100)\n",
            "(10000, 100)\n"
          ]
        }
      ]
    },
    {
      "cell_type": "code",
      "source": [
        "#1 rgb image sized 32x32x3 is reshaped to 1 dimensional array of size 3072\n",
        "x_train1 = x_train1.reshape(50000,3072)\n",
        "x_train2 = x_train2.reshape(50000,3072)\n",
        "x_test1 = x_test1.reshape(10000,3072)\n",
        "x_test2 = x_test2.reshape(10000,3072)"
      ],
      "metadata": {
        "id": "2Q4UhEykCKZD"
      },
      "execution_count": 5,
      "outputs": []
    },
    {
      "cell_type": "code",
      "source": [
        "#first sequential model for cifar10 dataset with 3 layers\n",
        "model = Sequential()\n",
        "model.add(Flatten())\n",
        "model.add(Dense(256, activation = 'relu'))\n",
        "model.add(Dropout(.2))\n",
        "model.add(Dense(128, activation = 'relu' ))\n",
        "model.add(Dropout(.2))\n",
        "model.add(Dense(10, activation = 'softmax' ))\n",
        "\n"
      ],
      "metadata": {
        "id": "nEIuozgEm2Zi"
      },
      "execution_count": 55,
      "outputs": []
    },
    {
      "cell_type": "code",
      "source": [
        "model.compile(optimizer='adam',\n",
        "              loss='categorical_crossentropy',\n",
        "              metrics=['accuracy'])"
      ],
      "metadata": {
        "id": "R_q35rF7phMk"
      },
      "execution_count": 56,
      "outputs": []
    },
    {
      "cell_type": "code",
      "source": [
        "model.fit(x_train1, y_one_hot1, epochs=10, \n",
        "          batch_size=(1000), \n",
        "          validation_split=0.2)"
      ],
      "metadata": {
        "colab": {
          "base_uri": "https://localhost:8080/"
        },
        "id": "2-P3kI9Gp2B3",
        "outputId": "3e3bd5ba-6340-4885-c4e5-5e8d467df05f"
      },
      "execution_count": 57,
      "outputs": [
        {
          "output_type": "stream",
          "name": "stdout",
          "text": [
            "Epoch 1/10\n",
            "40/40 [==============================] - 4s 78ms/step - loss: 2.2657 - accuracy: 0.1767 - val_loss: 2.0129 - val_accuracy: 0.2893\n",
            "Epoch 2/10\n",
            "40/40 [==============================] - 3s 66ms/step - loss: 1.9887 - accuracy: 0.2745 - val_loss: 1.8914 - val_accuracy: 0.3273\n",
            "Epoch 3/10\n",
            "40/40 [==============================] - 3s 72ms/step - loss: 1.8979 - accuracy: 0.3105 - val_loss: 1.8234 - val_accuracy: 0.3556\n",
            "Epoch 4/10\n",
            "40/40 [==============================] - 3s 74ms/step - loss: 1.8307 - accuracy: 0.3416 - val_loss: 1.7775 - val_accuracy: 0.3644\n",
            "Epoch 5/10\n",
            "40/40 [==============================] - 3s 66ms/step - loss: 1.7950 - accuracy: 0.3556 - val_loss: 1.7401 - val_accuracy: 0.3871\n",
            "Epoch 6/10\n",
            "40/40 [==============================] - 3s 64ms/step - loss: 1.7648 - accuracy: 0.3677 - val_loss: 1.7231 - val_accuracy: 0.3818\n",
            "Epoch 7/10\n",
            "40/40 [==============================] - 3s 65ms/step - loss: 1.7538 - accuracy: 0.3717 - val_loss: 1.6966 - val_accuracy: 0.3959\n",
            "Epoch 8/10\n",
            "40/40 [==============================] - 3s 80ms/step - loss: 1.7217 - accuracy: 0.3862 - val_loss: 1.6678 - val_accuracy: 0.4008\n",
            "Epoch 9/10\n",
            "40/40 [==============================] - 3s 67ms/step - loss: 1.7146 - accuracy: 0.3872 - val_loss: 1.6631 - val_accuracy: 0.4101\n",
            "Epoch 10/10\n",
            "40/40 [==============================] - 3s 64ms/step - loss: 1.6991 - accuracy: 0.3931 - val_loss: 1.6373 - val_accuracy: 0.4174\n"
          ]
        },
        {
          "output_type": "execute_result",
          "data": {
            "text/plain": [
              "<keras.callbacks.History at 0x7f67e9c98490>"
            ]
          },
          "metadata": {},
          "execution_count": 57
        }
      ]
    },
    {
      "cell_type": "code",
      "source": [
        "results = model.evaluate(x_test1,  y_test_one_hot1, verbose = 0)\n",
        "print('test loss, test acc:', results)"
      ],
      "metadata": {
        "colab": {
          "base_uri": "https://localhost:8080/"
        },
        "id": "KJbnVFX9TJ1t",
        "outputId": "d6df7af5-cd88-4c64-ff48-e3f2ced7a6be"
      },
      "execution_count": 58,
      "outputs": [
        {
          "output_type": "stream",
          "name": "stdout",
          "text": [
            "test loss, test acc: [1.6049220561981201, 0.4318999946117401]\n"
          ]
        }
      ]
    },
    {
      "cell_type": "code",
      "source": [
        "#for dataset cifar100\n",
        "model1 = Sequential()\n",
        "model1.add(Flatten())\n",
        "model1.add(Dense(256, activation = 'relu'))\n",
        "model1.add(Dropout(.2))\n",
        "model1.add(Dense(100, activation = 'softmax' ))"
      ],
      "metadata": {
        "id": "JUM-SIXkzrbK"
      },
      "execution_count": 59,
      "outputs": []
    },
    {
      "cell_type": "code",
      "source": [
        "model1.compile(optimizer='adam',\n",
        "              loss='categorical_crossentropy',\n",
        "              metrics=['accuracy'])"
      ],
      "metadata": {
        "id": "jVZBI2brzy20"
      },
      "execution_count": 60,
      "outputs": []
    },
    {
      "cell_type": "code",
      "source": [
        "model1.fit(x_train2, y_one_hot2, epochs=10, \n",
        "          batch_size=(2000), \n",
        "          validation_split=0.2)"
      ],
      "metadata": {
        "colab": {
          "base_uri": "https://localhost:8080/"
        },
        "id": "RtMEyYnJlmgz",
        "outputId": "9df01016-14b8-4e88-f822-8090abeced7e"
      },
      "execution_count": 61,
      "outputs": [
        {
          "output_type": "stream",
          "name": "stdout",
          "text": [
            "Epoch 1/10\n",
            "20/20 [==============================] - 3s 137ms/step - loss: 4.6407 - accuracy: 0.0176 - val_loss: 4.5426 - val_accuracy: 0.0265\n",
            "Epoch 2/10\n",
            "20/20 [==============================] - 3s 145ms/step - loss: 4.4933 - accuracy: 0.0302 - val_loss: 4.4175 - val_accuracy: 0.0377\n",
            "Epoch 3/10\n",
            "20/20 [==============================] - 2s 121ms/step - loss: 4.3676 - accuracy: 0.0397 - val_loss: 4.2640 - val_accuracy: 0.0497\n",
            "Epoch 4/10\n",
            "20/20 [==============================] - 2s 123ms/step - loss: 4.2452 - accuracy: 0.0505 - val_loss: 4.1465 - val_accuracy: 0.0727\n",
            "Epoch 5/10\n",
            "20/20 [==============================] - 2s 122ms/step - loss: 4.1610 - accuracy: 0.0629 - val_loss: 4.0632 - val_accuracy: 0.0866\n",
            "Epoch 6/10\n",
            "20/20 [==============================] - 3s 142ms/step - loss: 4.0853 - accuracy: 0.0740 - val_loss: 3.9919 - val_accuracy: 0.0989\n",
            "Epoch 7/10\n",
            "20/20 [==============================] - 3s 135ms/step - loss: 4.0360 - accuracy: 0.0790 - val_loss: 3.9456 - val_accuracy: 0.1081\n",
            "Epoch 8/10\n",
            "20/20 [==============================] - 2s 122ms/step - loss: 3.9989 - accuracy: 0.0857 - val_loss: 3.9156 - val_accuracy: 0.1119\n",
            "Epoch 9/10\n",
            "20/20 [==============================] - 2s 122ms/step - loss: 3.9666 - accuracy: 0.0910 - val_loss: 3.8796 - val_accuracy: 0.1171\n",
            "Epoch 10/10\n",
            "20/20 [==============================] - 2s 121ms/step - loss: 3.9394 - accuracy: 0.0958 - val_loss: 3.8480 - val_accuracy: 0.1236\n"
          ]
        },
        {
          "output_type": "execute_result",
          "data": {
            "text/plain": [
              "<keras.callbacks.History at 0x7f67eb7949a0>"
            ]
          },
          "metadata": {},
          "execution_count": 61
        }
      ]
    },
    {
      "cell_type": "code",
      "source": [
        "results = model1.evaluate(x_test2,  y_test_one_hot2, verbose = 0)\n",
        "print('test loss, test acc:', results)"
      ],
      "metadata": {
        "id": "Zn5bkAbulqXX",
        "colab": {
          "base_uri": "https://localhost:8080/"
        },
        "outputId": "2c7a37df-6592-4e01-c443-8ee2d77e79b7"
      },
      "execution_count": 62,
      "outputs": [
        {
          "output_type": "stream",
          "name": "stdout",
          "text": [
            "test loss, test acc: [3.8483757972717285, 0.12319999933242798]\n"
          ]
        }
      ]
    },
    {
      "cell_type": "markdown",
      "source": [
        "#Q2: different network configurations"
      ],
      "metadata": {
        "id": "iOpn3N9k6i9f"
      }
    },
    {
      "cell_type": "code",
      "source": [
        "#same model with dropout = 0.6 for cifar10 dataset\n",
        "model2 = Sequential()\n",
        "model2.add(Flatten())\n",
        "model2.add(Dense(256, activation = 'relu'))\n",
        "model2.add(Dropout(.6))\n",
        "model2.add(Dense(128, activation = 'relu' ))\n",
        "model2.add(Dropout(.6))\n",
        "model2.add(Dense(10, activation = 'softmax' ))\n"
      ],
      "metadata": {
        "id": "A67BMuEpVaWr"
      },
      "execution_count": null,
      "outputs": []
    },
    {
      "cell_type": "code",
      "source": [
        "model2.compile(optimizer='adam',\n",
        "              loss='categorical_crossentropy',\n",
        "              metrics=['accuracy'])"
      ],
      "metadata": {
        "id": "ygWvUvKOVfPK"
      },
      "execution_count": null,
      "outputs": []
    },
    {
      "cell_type": "code",
      "source": [
        "model2.fit(x_train1, y_one_hot1, epochs=10, \n",
        "          batch_size=(2000), \n",
        "          validation_split=0.2)"
      ],
      "metadata": {
        "id": "p8m-6F3nVjXO"
      },
      "execution_count": null,
      "outputs": []
    },
    {
      "cell_type": "code",
      "source": [
        "results = model2.evaluate(x_test1,  y_test_one_hot1, verbose = 0)\n",
        "print('test loss, test acc:', results)"
      ],
      "metadata": {
        "id": "E5gVURjRVmPW"
      },
      "execution_count": null,
      "outputs": []
    },
    {
      "cell_type": "code",
      "source": [
        "#for dataset cifar100 with dropout 0.6\n",
        "model3 = Sequential()\n",
        "model3.add(Flatten())\n",
        "model3.add(Dense(256, activation = 'relu'))\n",
        "model3.add(Dropout(.6))\n",
        "model3.add(Dense(100, activation = 'softmax' ))\n"
      ],
      "metadata": {
        "id": "NGY0xVPO01wW"
      },
      "execution_count": null,
      "outputs": []
    },
    {
      "cell_type": "code",
      "source": [
        "model3.compile(optimizer='adam',\n",
        "              loss='categorical_crossentropy',\n",
        "              metrics=['accuracy'])"
      ],
      "metadata": {
        "id": "NH5vc9eW1F-H"
      },
      "execution_count": null,
      "outputs": []
    },
    {
      "cell_type": "code",
      "source": [
        "model3.fit(x_train2, y_one_hot2, epochs=10, \n",
        "          batch_size=(2000), \n",
        "          validation_split=0.2)"
      ],
      "metadata": {
        "id": "yCbUAsCn1IqO"
      },
      "execution_count": null,
      "outputs": []
    },
    {
      "cell_type": "code",
      "source": [
        "results = model3.evaluate(x_test2,  y_test_one_hot2, verbose = 0)\n",
        "print('test loss, test acc:', results)"
      ],
      "metadata": {
        "id": "Li2tWGYo1LWH"
      },
      "execution_count": null,
      "outputs": []
    },
    {
      "cell_type": "code",
      "source": [
        "#same model without dropout for cifar10 dataset\n",
        "model4 = Sequential()\n",
        "model4.add(Flatten())\n",
        "model4.add(Dense(256, activation = 'relu'))\n",
        "#model2.add(Dropout(.6))\n",
        "model4.add(Dense(128, activation = 'relu' ))\n",
        "#model2.add(Dropout(.6))\n",
        "model4.add(Dense(10, activation = 'softmax' ))\n"
      ],
      "metadata": {
        "id": "FPmlF5xGVzR_"
      },
      "execution_count": null,
      "outputs": []
    },
    {
      "cell_type": "code",
      "source": [
        "model4.compile(optimizer='adam',\n",
        "              loss='categorical_crossentropy',\n",
        "              metrics=['accuracy'])"
      ],
      "metadata": {
        "id": "p-INZOjtV-l8"
      },
      "execution_count": null,
      "outputs": []
    },
    {
      "cell_type": "code",
      "source": [
        "model4.fit(x_train1, y_one_hot1, epochs=10, \n",
        "          batch_size=(2000), \n",
        "          validation_split=0.2)"
      ],
      "metadata": {
        "colab": {
          "base_uri": "https://localhost:8080/"
        },
        "id": "Ne_fduBLWBPv",
        "outputId": "66f599d8-aaaf-4fb0-b6b2-f77dfd4edf29"
      },
      "execution_count": 48,
      "outputs": [
        {
          "output_type": "stream",
          "name": "stdout",
          "text": [
            "Epoch 1/10\n",
            "20/20 [==============================] - 4s 145ms/step - loss: 2.2687 - accuracy: 0.1784 - val_loss: 2.0489 - val_accuracy: 0.2592\n",
            "Epoch 2/10\n",
            "20/20 [==============================] - 3s 138ms/step - loss: 1.9642 - accuracy: 0.2970 - val_loss: 1.9237 - val_accuracy: 0.3235\n",
            "Epoch 3/10\n",
            "20/20 [==============================] - 3s 127ms/step - loss: 1.8741 - accuracy: 0.3416 - val_loss: 1.8728 - val_accuracy: 0.3387\n",
            "Epoch 4/10\n",
            "20/20 [==============================] - 2s 121ms/step - loss: 1.8122 - accuracy: 0.3672 - val_loss: 1.8087 - val_accuracy: 0.3664\n",
            "Epoch 5/10\n",
            "20/20 [==============================] - 3s 156ms/step - loss: 1.7640 - accuracy: 0.3818 - val_loss: 1.7760 - val_accuracy: 0.3755\n",
            "Epoch 6/10\n",
            "20/20 [==============================] - 2s 121ms/step - loss: 1.7334 - accuracy: 0.3948 - val_loss: 1.7456 - val_accuracy: 0.3868\n",
            "Epoch 7/10\n",
            "20/20 [==============================] - 2s 119ms/step - loss: 1.7044 - accuracy: 0.4019 - val_loss: 1.7277 - val_accuracy: 0.3945\n",
            "Epoch 8/10\n",
            "20/20 [==============================] - 2s 118ms/step - loss: 1.6692 - accuracy: 0.4167 - val_loss: 1.7127 - val_accuracy: 0.3969\n",
            "Epoch 9/10\n",
            "20/20 [==============================] - 3s 144ms/step - loss: 1.6496 - accuracy: 0.4216 - val_loss: 1.6856 - val_accuracy: 0.4074\n",
            "Epoch 10/10\n",
            "20/20 [==============================] - 4s 180ms/step - loss: 1.6262 - accuracy: 0.4295 - val_loss: 1.6904 - val_accuracy: 0.4016\n"
          ]
        },
        {
          "output_type": "execute_result",
          "data": {
            "text/plain": [
              "<keras.callbacks.History at 0x7fbe6b7613d0>"
            ]
          },
          "metadata": {},
          "execution_count": 48
        }
      ]
    },
    {
      "cell_type": "code",
      "source": [
        "results = model4.evaluate(x_test1,  y_test_one_hot1, verbose = 0)\n",
        "print('test loss, test acc:', results)"
      ],
      "metadata": {
        "id": "epQ8ovZ-WDkr"
      },
      "execution_count": null,
      "outputs": []
    },
    {
      "cell_type": "code",
      "source": [
        "# compiling the same model with optimizer SGD\n",
        "model.compile(optimizer='SGD',\n",
        "              loss='categorical_crossentropy',\n",
        "              metrics=['accuracy'])"
      ],
      "metadata": {
        "id": "8CgotTV97ft6"
      },
      "execution_count": null,
      "outputs": []
    },
    {
      "cell_type": "code",
      "source": [
        "model.fit(x_train1, y_one_hot1, epochs=10, \n",
        "          batch_size=(2000), \n",
        "          validation_split=0.2)"
      ],
      "metadata": {
        "id": "KYjvSngx7zp-"
      },
      "execution_count": null,
      "outputs": []
    },
    {
      "cell_type": "code",
      "source": [
        "results = model.evaluate(x_test1,  y_test_one_hot1, verbose = 0)\n",
        "print('test loss, test acc:', results)"
      ],
      "metadata": {
        "id": "1TnS8w94W7N6"
      },
      "execution_count": null,
      "outputs": []
    },
    {
      "cell_type": "code",
      "source": [
        "#for dataset cifar100 without dropout\n",
        "model5 = Sequential()\n",
        "model5.add(Flatten())\n",
        "model5.add(Dense(256, activation = 'relu'))\n",
        "#model5.add(Dropout(.2))\n",
        "model5.add(Dense(100, activation = 'softmax' ))"
      ],
      "metadata": {
        "id": "navN1WX19ppp"
      },
      "execution_count": null,
      "outputs": []
    },
    {
      "cell_type": "code",
      "source": [
        "model5.compile(optimizer='adam',\n",
        "              loss='categorical_crossentropy',\n",
        "              metrics=['accuracy'])"
      ],
      "metadata": {
        "id": "AX8UJ1xt91nB"
      },
      "execution_count": null,
      "outputs": []
    },
    {
      "cell_type": "code",
      "source": [
        "model5.fit(x_train2, y_one_hot2, epochs=10, \n",
        "          batch_size=(2000), \n",
        "          validation_split=0.2)"
      ],
      "metadata": {
        "id": "uf6EssSJ946x"
      },
      "execution_count": null,
      "outputs": []
    },
    {
      "cell_type": "code",
      "source": [
        "results = model5.evaluate(x_test2,  y_test_one_hot2, verbose = 0)\n",
        "print('test loss, test acc:', results)"
      ],
      "metadata": {
        "id": "C94C1bFK94-l"
      },
      "execution_count": null,
      "outputs": []
    },
    {
      "cell_type": "code",
      "source": [
        "# compiling the same model with optimizer SGD for cifar 100\n",
        "model1.compile(optimizer='SGD',\n",
        "              loss='categorical_crossentropy',\n",
        "              metrics=['accuracy'])"
      ],
      "metadata": {
        "id": "YkcWfWEh4MjN"
      },
      "execution_count": null,
      "outputs": []
    },
    {
      "cell_type": "code",
      "source": [
        "model1.fit(x_train2, y_one_hot2, epochs=10, \n",
        "          batch_size=(2000), \n",
        "          validation_split=0.2)"
      ],
      "metadata": {
        "id": "HlegcihK4QIX"
      },
      "execution_count": null,
      "outputs": []
    },
    {
      "cell_type": "code",
      "source": [
        "results = model1.evaluate(x_test2,  y_test_one_hot2, verbose = 0)\n",
        "print('test loss, test acc:', results)"
      ],
      "metadata": {
        "id": "WudBVwPG4TlM"
      },
      "execution_count": null,
      "outputs": []
    },
    {
      "cell_type": "code",
      "source": [
        "# model with no dropout and SGD as optimizer\n",
        "model4.compile(optimizer='SGD',\n",
        "              loss='categorical_crossentropy',\n",
        "              metrics=['accuracy'])"
      ],
      "metadata": {
        "id": "GIlyBvXuZaOv"
      },
      "execution_count": null,
      "outputs": []
    },
    {
      "cell_type": "code",
      "source": [
        "model4.fit(x_train1, y_one_hot1, epochs=10, \n",
        "          batch_size=(2000), \n",
        "          validation_split=0.2)"
      ],
      "metadata": {
        "id": "y3t3Oca2Zhi8"
      },
      "execution_count": null,
      "outputs": []
    },
    {
      "cell_type": "code",
      "source": [
        "results = model4.evaluate(x_test1,  y_test_one_hot1, verbose = 0)\n",
        "print('test loss, test acc:', results)"
      ],
      "metadata": {
        "id": "h42AsooyZo1n"
      },
      "execution_count": null,
      "outputs": []
    },
    {
      "cell_type": "code",
      "source": [
        "# model with no dropout and SGD as optimizer\n",
        "model5.compile(optimizer='SGD',\n",
        "              loss='categorical_crossentropy',\n",
        "              metrics=['accuracy'])"
      ],
      "metadata": {
        "id": "NMQt-XCSkuk5"
      },
      "execution_count": null,
      "outputs": []
    },
    {
      "cell_type": "code",
      "source": [
        "model5.fit(x_train2, y_one_hot2, epochs=10, \n",
        "          batch_size=(2000), \n",
        "          validation_split=0.2)"
      ],
      "metadata": {
        "id": "0T8YoKLR_GIH"
      },
      "execution_count": null,
      "outputs": []
    },
    {
      "cell_type": "code",
      "source": [
        "results = model5.evaluate(x_test2,  y_test_one_hot2, verbose = 0)\n",
        "print('test loss, test acc:', results)"
      ],
      "metadata": {
        "id": "6X7yBBDx_JgP"
      },
      "execution_count": null,
      "outputs": []
    },
    {
      "cell_type": "code",
      "source": [
        "# more layers and nodes for dataset cifar10\n",
        "\n",
        "model6 = Sequential()\n",
        "model6.add(Flatten())\n",
        "model6.add(Dense(512, activation = 'relu'))\n",
        "model6.add(Dropout(.2))\n",
        "model6.add(Dense(256, activation = 'relu'))\n",
        "model6.add(Dropout(.2))\n",
        "model6.add(Dense(128, activation = 'relu' ))\n",
        "model6.add(Dropout(.2))\n",
        "model6.add(Dense(10, activation = 'softmax' ))\n"
      ],
      "metadata": {
        "id": "JaO9WjWy_eVE"
      },
      "execution_count": null,
      "outputs": []
    },
    {
      "cell_type": "code",
      "source": [
        "model6.compile(optimizer='adam',\n",
        "              loss='categorical_crossentropy',\n",
        "              metrics=['accuracy'])"
      ],
      "metadata": {
        "id": "ytOxsCDQ_tmr"
      },
      "execution_count": null,
      "outputs": []
    },
    {
      "cell_type": "code",
      "source": [
        "model6.fit(x_train1, y_one_hot1, epochs=10, \n",
        "          batch_size=(2000), \n",
        "          validation_split=0.2)"
      ],
      "metadata": {
        "id": "KXMPdPmE_xQg"
      },
      "execution_count": null,
      "outputs": []
    },
    {
      "cell_type": "code",
      "source": [
        "results = model6.evaluate(x_test1,  y_test_one_hot1, verbose = 0)\n",
        "print('test loss, test acc:', results)"
      ],
      "metadata": {
        "id": "W4-9j4cr_0zm"
      },
      "execution_count": null,
      "outputs": []
    },
    {
      "cell_type": "code",
      "source": [
        "#for dataset cifar100 model with more layers\n",
        "model7 = Sequential()\n",
        "model7.add(Flatten())\n",
        "model7.add(Dense(512, activation = 'relu'))\n",
        "model7.add(Dropout(.2))\n",
        "model7.add(Dense(256, activation = 'relu'))\n",
        "model7.add(Dropout(.2))\n",
        "model7.add(Dense(100, activation = 'softmax' ))"
      ],
      "metadata": {
        "id": "WKC4rsXb_7Gv"
      },
      "execution_count": null,
      "outputs": []
    },
    {
      "cell_type": "code",
      "source": [
        "model7.compile(optimizer='adam',\n",
        "              loss='categorical_crossentropy',\n",
        "              metrics=['accuracy'])"
      ],
      "metadata": {
        "id": "4Jbz5NFXAENR"
      },
      "execution_count": null,
      "outputs": []
    },
    {
      "cell_type": "code",
      "source": [
        "model7.fit(x_train2, y_one_hot2, epochs=10, \n",
        "          batch_size=(2000), \n",
        "          validation_split=0.2)"
      ],
      "metadata": {
        "id": "AlbVXHJTAMtR"
      },
      "execution_count": null,
      "outputs": []
    },
    {
      "cell_type": "code",
      "source": [
        "results = model7.evaluate(x_test2,  y_test_one_hot2, verbose = 0)\n",
        "print('test loss, test acc:', results)"
      ],
      "metadata": {
        "id": "9tQ1L3ApAc-3"
      },
      "execution_count": null,
      "outputs": []
    },
    {
      "cell_type": "markdown",
      "source": [
        "#Question 3"
      ],
      "metadata": {
        "id": "PDAC_ozhEayJ"
      }
    },
    {
      "cell_type": "code",
      "source": [
        "model8 = Sequential()\n",
        "model8.add(Dense(3072, activation = 'relu'))\n",
        "#model8.add(Dense(128, activation = 'relu'))\n",
        "model8.add(Dense(10, activation = 'softmax' ))\n"
      ],
      "metadata": {
        "id": "jg7nAhWYEhC9"
      },
      "execution_count": 75,
      "outputs": []
    },
    {
      "cell_type": "code",
      "source": [
        "model8.compile(optimizer='adam',\n",
        "              loss='categorical_crossentropy',\n",
        "              metrics=['accuracy'])"
      ],
      "metadata": {
        "id": "9cz6xjQDFcn-"
      },
      "execution_count": 76,
      "outputs": []
    },
    {
      "cell_type": "code",
      "source": [
        "model8.fit(x_train1, y_one_hot1, epochs=10, \n",
        "          batch_size=(2000), \n",
        "          validation_split=0.2)"
      ],
      "metadata": {
        "colab": {
          "base_uri": "https://localhost:8080/"
        },
        "id": "62x-cocPFfBE",
        "outputId": "353b16a9-526c-4b25-f120-73db9855bf7f"
      },
      "execution_count": 77,
      "outputs": [
        {
          "output_type": "stream",
          "name": "stdout",
          "text": [
            "Epoch 1/10\n",
            "20/20 [==============================] - 40s 2s/step - loss: 7.8384 - accuracy: 0.1412 - val_loss: 2.5715 - val_accuracy: 0.1336\n",
            "Epoch 2/10\n",
            "20/20 [==============================] - 41s 2s/step - loss: 2.2184 - accuracy: 0.1873 - val_loss: 2.0787 - val_accuracy: 0.2627\n",
            "Epoch 3/10\n",
            "20/20 [==============================] - 35s 2s/step - loss: 2.0031 - accuracy: 0.2921 - val_loss: 1.9530 - val_accuracy: 0.3049\n",
            "Epoch 4/10\n",
            "20/20 [==============================] - 35s 2s/step - loss: 1.9101 - accuracy: 0.3259 - val_loss: 1.8943 - val_accuracy: 0.3341\n",
            "Epoch 5/10\n",
            "20/20 [==============================] - 32s 2s/step - loss: 1.8514 - accuracy: 0.3518 - val_loss: 1.8390 - val_accuracy: 0.3504\n",
            "Epoch 6/10\n",
            "20/20 [==============================] - 35s 2s/step - loss: 1.7979 - accuracy: 0.3688 - val_loss: 1.8023 - val_accuracy: 0.3651\n",
            "Epoch 7/10\n",
            "20/20 [==============================] - 34s 2s/step - loss: 1.7587 - accuracy: 0.3826 - val_loss: 1.7745 - val_accuracy: 0.3708\n",
            "Epoch 8/10\n",
            "20/20 [==============================] - 32s 2s/step - loss: 1.7265 - accuracy: 0.3946 - val_loss: 1.7399 - val_accuracy: 0.3877\n",
            "Epoch 9/10\n",
            "20/20 [==============================] - 34s 2s/step - loss: 1.6964 - accuracy: 0.4020 - val_loss: 1.7225 - val_accuracy: 0.3890\n",
            "Epoch 10/10\n",
            "20/20 [==============================] - 34s 2s/step - loss: 1.6723 - accuracy: 0.4115 - val_loss: 1.6996 - val_accuracy: 0.4044\n"
          ]
        },
        {
          "output_type": "execute_result",
          "data": {
            "text/plain": [
              "<keras.callbacks.History at 0x7f60b176a280>"
            ]
          },
          "metadata": {},
          "execution_count": 77
        }
      ]
    },
    {
      "cell_type": "code",
      "source": [
        "model8.summary()"
      ],
      "metadata": {
        "colab": {
          "base_uri": "https://localhost:8080/"
        },
        "id": "fXmAvpw1FGuL",
        "outputId": "e7007765-f26e-4508-a219-f6b9139201e2"
      },
      "execution_count": 78,
      "outputs": [
        {
          "output_type": "stream",
          "name": "stdout",
          "text": [
            "Model: \"sequential_2\"\n",
            "_________________________________________________________________\n",
            " Layer (type)                Output Shape              Param #   \n",
            "=================================================================\n",
            " dense_5 (Dense)             (2000, 3072)              9440256   \n",
            "                                                                 \n",
            " dense_6 (Dense)             (2000, 10)                30730     \n",
            "                                                                 \n",
            "=================================================================\n",
            "Total params: 9,470,986\n",
            "Trainable params: 9,470,986\n",
            "Non-trainable params: 0\n",
            "_________________________________________________________________\n"
          ]
        }
      ]
    },
    {
      "cell_type": "code",
      "source": [
        "#trainable weights of each layer\n",
        "# a is last layer, c is first layer\n",
        "a = model8.layers[2].weights[0]\n",
        "b = model8.layers[1].weights[0]\n",
        "c = model8.layers[0].weights[0]\n"
      ],
      "metadata": {
        "id": "zezvgVCFGqtn"
      },
      "execution_count": 79,
      "outputs": []
    },
    {
      "cell_type": "code",
      "source": [
        "model8.layers[0].weights[0]"
      ],
      "metadata": {
        "colab": {
          "base_uri": "https://localhost:8080/"
        },
        "id": "jX_k__xiXALv",
        "outputId": "2ba2291a-35cc-4485-c775-3cbe04aa056e"
      },
      "execution_count": 81,
      "outputs": [
        {
          "output_type": "execute_result",
          "data": {
            "text/plain": [
              "<tf.Variable 'dense_5/kernel:0' shape=(3072, 3072) dtype=float32, numpy=\n",
              "array([[-0.01693588, -0.00729624, -0.02538426, ..., -0.03713127,\n",
              "        -0.00158427, -0.006359  ],\n",
              "       [ 0.01042881, -0.00626803,  0.01878196, ..., -0.0354787 ,\n",
              "        -0.0197454 , -0.02870552],\n",
              "       [ 0.03154113,  0.02432134, -0.00724443, ...,  0.01308486,\n",
              "         0.01961856, -0.01086926],\n",
              "       ...,\n",
              "       [ 0.01936872, -0.02639729,  0.0132981 , ..., -0.00193033,\n",
              "         0.00106561,  0.01173532],\n",
              "       [ 0.01315036, -0.02787237, -0.02343399, ...,  0.02426468,\n",
              "         0.01495557, -0.00170782],\n",
              "       [-0.02346553,  0.02296077,  0.00074323, ...,  0.01430566,\n",
              "        -0.01825502,  0.00440774]], dtype=float32)>"
            ]
          },
          "metadata": {},
          "execution_count": 81
        }
      ]
    },
    {
      "cell_type": "code",
      "source": [
        "#take transpose of each array vector\n",
        "a = np.transpose(a)\n",
        "b = np.transpose(b)\n",
        "c = np.transpose(c)"
      ],
      "metadata": {
        "id": "XYEVIaHxHQPI"
      },
      "execution_count": 82,
      "outputs": []
    },
    {
      "cell_type": "code",
      "source": [
        "##weights related second node of the layer are saved\n",
        "d = a[1]\n",
        "e = b[1]\n",
        "f = c[1]"
      ],
      "metadata": {
        "id": "V8nlo3ZAHUNm"
      },
      "execution_count": 83,
      "outputs": []
    },
    {
      "cell_type": "code",
      "source": [
        "e.shape"
      ],
      "metadata": {
        "colab": {
          "base_uri": "https://localhost:8080/"
        },
        "id": "CQ9WYNubKpdp",
        "outputId": "7e418ead-9bcb-40dc-b657-46ed64fc32a0"
      },
      "execution_count": 84,
      "outputs": [
        {
          "output_type": "execute_result",
          "data": {
            "text/plain": [
              "(3072,)"
            ]
          },
          "metadata": {},
          "execution_count": 84
        }
      ]
    },
    {
      "cell_type": "code",
      "source": [
        "f.shape"
      ],
      "metadata": {
        "colab": {
          "base_uri": "https://localhost:8080/"
        },
        "id": "v7Vxt2ebfuJz",
        "outputId": "07e50e5a-455b-48bd-8597-8e0f24b94a1e"
      },
      "execution_count": 85,
      "outputs": [
        {
          "output_type": "execute_result",
          "data": {
            "text/plain": [
              "(3072,)"
            ]
          },
          "metadata": {},
          "execution_count": 85
        }
      ]
    },
    {
      "cell_type": "code",
      "source": [
        "import numpy as np\n",
        "import matplotlib.pyplot as plt\n",
        "\n",
        "f = np.array(f)\n",
        "f = f.reshape((32, 32*3))\n",
        "plt.imshow(f.astype('float'))\n",
        "plt.show()"
      ],
      "metadata": {
        "colab": {
          "base_uri": "https://localhost:8080/",
          "height": 162
        },
        "id": "NNzHTdmCHmgr",
        "outputId": "2d90d3f3-b7c6-4687-abc9-bb0287a7531e"
      },
      "execution_count": 86,
      "outputs": [
        {
          "output_type": "display_data",
          "data": {
            "text/plain": [
              "<Figure size 432x288 with 1 Axes>"
            ],
            "image/png": "[encoded data removed]"
          },
          "metadata": {
            "needs_background": "light"
          }
        }
      ]
    },
    {
      "cell_type": "code",
      "source": [
        "e = np.array(e)\n",
        "e = e.reshape((32, 32*3))\n",
        "plt.imshow(e.astype('float'))\n",
        "plt.show()"
      ],
      "metadata": {
        "colab": {
          "base_uri": "https://localhost:8080/",
          "height": 162
        },
        "id": "nxo7JHvgYu1g",
        "outputId": "77f77982-2b4c-4a84-f590-d408d7fee392"
      },
      "execution_count": 87,
      "outputs": [
        {
          "output_type": "display_data",
          "data": {
            "text/plain": [
              "<Figure size 432x288 with 1 Axes>"
            ],
            "image/png": "[encoded data removed]"
          },
          "metadata": {
            "needs_background": "light"
          }
        }
      ]
    },
    {
      "cell_type": "code",
      "source": [
        "d = np.array(d)\n",
        "d = d.reshape((16, 8))\n",
        "plt.imshow(d.astype('float'))\n",
        "plt.show()"
      ],
      "metadata": {
        "colab": {
          "base_uri": "https://localhost:8080/",
          "height": 265
        },
        "id": "k_C42yZuYgsS",
        "outputId": "a433fa49-3956-4810-8898-6fca5423b71a"
      },
      "execution_count": 72,
      "outputs": [
        {
          "output_type": "display_data",
          "data": {
            "text/plain": [
              "<Figure size 432x288 with 1 Axes>"
            ],
            "image/png": "[encoded data removed]"
          },
          "metadata": {
            "needs_background": "light"
          }
        }
      ]
    },
    {
      "cell_type": "code",
      "source": [],
      "metadata": {
        "id": "pJtAYGVSMFMO"
      },
      "execution_count": null,
      "outputs": []
    }
  ]
}